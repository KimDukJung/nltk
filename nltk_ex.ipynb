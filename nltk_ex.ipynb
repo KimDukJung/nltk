{
  "nbformat": 4,
  "nbformat_minor": 0,
  "metadata": {
    "colab": {
      "provenance": [],
      "authorship_tag": "ABX9TyOazdeDDcft3Nrt2zfoNTVf",
      "include_colab_link": true
    },
    "kernelspec": {
      "name": "python3",
      "display_name": "Python 3"
    },
    "language_info": {
      "name": "python"
    }
  },
  "cells": [
    {
      "cell_type": "markdown",
      "metadata": {
        "id": "view-in-github",
        "colab_type": "text"
      },
      "source": [
        "<a href=\"https://colab.research.google.com/github/KimDukJung/20240229ppt/blob/main/nltk_ex.ipynb\" target=\"_parent\"><img src=\"https://colab.research.google.com/assets/colab-badge.svg\" alt=\"Open In Colab\"/></a>"
      ]
    },
    {
      "cell_type": "code",
      "execution_count": 1,
      "metadata": {
        "colab": {
          "base_uri": "https://localhost:8080/"
        },
        "id": "xd-ZZ8xCmVeJ",
        "outputId": "737e71c5-4760-469b-bd63-9f6eb88df0c4"
      },
      "outputs": [
        {
          "output_type": "stream",
          "name": "stdout",
          "text": [
            "Requirement already satisfied: BeautifulSoup4 in /usr/local/lib/python3.10/dist-packages (4.12.3)\n",
            "Requirement already satisfied: soupsieve>1.2 in /usr/local/lib/python3.10/dist-packages (from BeautifulSoup4) (2.6)\n"
          ]
        }
      ],
      "source": [
        "pip install BeautifulSoup4"
      ]
    },
    {
      "cell_type": "code",
      "source": [
        "pip install finance-datareader"
      ],
      "metadata": {
        "colab": {
          "base_uri": "https://localhost:8080/"
        },
        "id": "8W5ModhlmcLw",
        "outputId": "f728c95a-551a-45f4-9bcd-85e4767ca670"
      },
      "execution_count": 2,
      "outputs": [
        {
          "output_type": "stream",
          "name": "stdout",
          "text": [
            "Collecting finance-datareader\n",
            "  Downloading finance_datareader-0.9.94-py3-none-any.whl.metadata (466 bytes)\n",
            "Requirement already satisfied: pandas>=0.19.2 in /usr/local/lib/python3.10/dist-packages (from finance-datareader) (2.2.2)\n",
            "Requirement already satisfied: requests>=2.3.0 in /usr/local/lib/python3.10/dist-packages (from finance-datareader) (2.32.3)\n",
            "Collecting requests-file (from finance-datareader)\n",
            "  Downloading requests_file-2.1.0-py2.py3-none-any.whl.metadata (1.7 kB)\n",
            "Requirement already satisfied: lxml in /usr/local/lib/python3.10/dist-packages (from finance-datareader) (5.3.0)\n",
            "Requirement already satisfied: tqdm in /usr/local/lib/python3.10/dist-packages (from finance-datareader) (4.66.6)\n",
            "Requirement already satisfied: numpy>=1.22.4 in /usr/local/lib/python3.10/dist-packages (from pandas>=0.19.2->finance-datareader) (1.26.4)\n",
            "Requirement already satisfied: python-dateutil>=2.8.2 in /usr/local/lib/python3.10/dist-packages (from pandas>=0.19.2->finance-datareader) (2.8.2)\n",
            "Requirement already satisfied: pytz>=2020.1 in /usr/local/lib/python3.10/dist-packages (from pandas>=0.19.2->finance-datareader) (2024.2)\n",
            "Requirement already satisfied: tzdata>=2022.7 in /usr/local/lib/python3.10/dist-packages (from pandas>=0.19.2->finance-datareader) (2024.2)\n",
            "Requirement already satisfied: charset-normalizer<4,>=2 in /usr/local/lib/python3.10/dist-packages (from requests>=2.3.0->finance-datareader) (3.4.0)\n",
            "Requirement already satisfied: idna<4,>=2.5 in /usr/local/lib/python3.10/dist-packages (from requests>=2.3.0->finance-datareader) (3.10)\n",
            "Requirement already satisfied: urllib3<3,>=1.21.1 in /usr/local/lib/python3.10/dist-packages (from requests>=2.3.0->finance-datareader) (2.2.3)\n",
            "Requirement already satisfied: certifi>=2017.4.17 in /usr/local/lib/python3.10/dist-packages (from requests>=2.3.0->finance-datareader) (2024.8.30)\n",
            "Requirement already satisfied: six>=1.5 in /usr/local/lib/python3.10/dist-packages (from python-dateutil>=2.8.2->pandas>=0.19.2->finance-datareader) (1.16.0)\n",
            "Downloading finance_datareader-0.9.94-py3-none-any.whl (89 kB)\n",
            "\u001b[2K   \u001b[90m━━━━━━━━━━━━━━━━━━━━━━━━━━━━━━━━━━━━━━━━\u001b[0m \u001b[32m89.3/89.3 kB\u001b[0m \u001b[31m4.4 MB/s\u001b[0m eta \u001b[36m0:00:00\u001b[0m\n",
            "\u001b[?25hDownloading requests_file-2.1.0-py2.py3-none-any.whl (4.2 kB)\n",
            "Installing collected packages: requests-file, finance-datareader\n",
            "Successfully installed finance-datareader-0.9.94 requests-file-2.1.0\n"
          ]
        }
      ]
    },
    {
      "cell_type": "code",
      "source": [
        "import FinanceDataReader as fdr"
      ],
      "metadata": {
        "id": "zA6c4ysxmj9j"
      },
      "execution_count": 4,
      "outputs": []
    },
    {
      "cell_type": "code",
      "source": [
        "import numpy as np\n",
        "import pandas as pd\n",
        "import matplotlib.pyplot as plt\n",
        "import seaborn as sns"
      ],
      "metadata": {
        "id": "l9vnnWtZmrsD"
      },
      "execution_count": 5,
      "outputs": []
    },
    {
      "cell_type": "code",
      "source": [
        "samsung = fdr.DataReader('005930', '2020')\n",
        "samsung.head()"
      ],
      "metadata": {
        "colab": {
          "base_uri": "https://localhost:8080/",
          "height": 238
        },
        "id": "xF5fqPLkm0MR",
        "outputId": "dca6f9ca-24fb-482c-cd9d-feb16101d517"
      },
      "execution_count": 6,
      "outputs": [
        {
          "output_type": "execute_result",
          "data": {
            "text/plain": [
              "             Open   High    Low  Close    Volume    Change\n",
              "Date                                                      \n",
              "2020-01-02  55500  56000  55000  55200  12993228 -0.010753\n",
              "2020-01-03  56000  56600  54900  55500  15422255  0.005435\n",
              "2020-01-06  54900  55600  54600  55500  10278951  0.000000\n",
              "2020-01-07  55700  56400  55600  55800  10009778  0.005405\n",
              "2020-01-08  56200  57400  55900  56800  23501171  0.017921"
            ],
            "text/html": [
              "\n",
              "  <div id=\"df-625fdc2f-ce56-4151-9a00-5689136313d2\" class=\"colab-df-container\">\n",
              "    <div>\n",
              "<style scoped>\n",
              "    .dataframe tbody tr th:only-of-type {\n",
              "        vertical-align: middle;\n",
              "    }\n",
              "\n",
              "    .dataframe tbody tr th {\n",
              "        vertical-align: top;\n",
              "    }\n",
              "\n",
              "    .dataframe thead th {\n",
              "        text-align: right;\n",
              "    }\n",
              "</style>\n",
              "<table border=\"1\" class=\"dataframe\">\n",
              "  <thead>\n",
              "    <tr style=\"text-align: right;\">\n",
              "      <th></th>\n",
              "      <th>Open</th>\n",
              "      <th>High</th>\n",
              "      <th>Low</th>\n",
              "      <th>Close</th>\n",
              "      <th>Volume</th>\n",
              "      <th>Change</th>\n",
              "    </tr>\n",
              "    <tr>\n",
              "      <th>Date</th>\n",
              "      <th></th>\n",
              "      <th></th>\n",
              "      <th></th>\n",
              "      <th></th>\n",
              "      <th></th>\n",
              "      <th></th>\n",
              "    </tr>\n",
              "  </thead>\n",
              "  <tbody>\n",
              "    <tr>\n",
              "      <th>2020-01-02</th>\n",
              "      <td>55500</td>\n",
              "      <td>56000</td>\n",
              "      <td>55000</td>\n",
              "      <td>55200</td>\n",
              "      <td>12993228</td>\n",
              "      <td>-0.010753</td>\n",
              "    </tr>\n",
              "    <tr>\n",
              "      <th>2020-01-03</th>\n",
              "      <td>56000</td>\n",
              "      <td>56600</td>\n",
              "      <td>54900</td>\n",
              "      <td>55500</td>\n",
              "      <td>15422255</td>\n",
              "      <td>0.005435</td>\n",
              "    </tr>\n",
              "    <tr>\n",
              "      <th>2020-01-06</th>\n",
              "      <td>54900</td>\n",
              "      <td>55600</td>\n",
              "      <td>54600</td>\n",
              "      <td>55500</td>\n",
              "      <td>10278951</td>\n",
              "      <td>0.000000</td>\n",
              "    </tr>\n",
              "    <tr>\n",
              "      <th>2020-01-07</th>\n",
              "      <td>55700</td>\n",
              "      <td>56400</td>\n",
              "      <td>55600</td>\n",
              "      <td>55800</td>\n",
              "      <td>10009778</td>\n",
              "      <td>0.005405</td>\n",
              "    </tr>\n",
              "    <tr>\n",
              "      <th>2020-01-08</th>\n",
              "      <td>56200</td>\n",
              "      <td>57400</td>\n",
              "      <td>55900</td>\n",
              "      <td>56800</td>\n",
              "      <td>23501171</td>\n",
              "      <td>0.017921</td>\n",
              "    </tr>\n",
              "  </tbody>\n",
              "</table>\n",
              "</div>\n",
              "    <div class=\"colab-df-buttons\">\n",
              "\n",
              "  <div class=\"colab-df-container\">\n",
              "    <button class=\"colab-df-convert\" onclick=\"convertToInteractive('df-625fdc2f-ce56-4151-9a00-5689136313d2')\"\n",
              "            title=\"Convert this dataframe to an interactive table.\"\n",
              "            style=\"display:none;\">\n",
              "\n",
              "  <svg xmlns=\"http://www.w3.org/2000/svg\" height=\"24px\" viewBox=\"0 -960 960 960\">\n",
              "    <path d=\"M120-120v-720h720v720H120Zm60-500h600v-160H180v160Zm220 220h160v-160H400v160Zm0 220h160v-160H400v160ZM180-400h160v-160H180v160Zm440 0h160v-160H620v160ZM180-180h160v-160H180v160Zm440 0h160v-160H620v160Z\"/>\n",
              "  </svg>\n",
              "    </button>\n",
              "\n",
              "  <style>\n",
              "    .colab-df-container {\n",
              "      display:flex;\n",
              "      gap: 12px;\n",
              "    }\n",
              "\n",
              "    .colab-df-convert {\n",
              "      background-color: #E8F0FE;\n",
              "      border: none;\n",
              "      border-radius: 50%;\n",
              "      cursor: pointer;\n",
              "      display: none;\n",
              "      fill: #1967D2;\n",
              "      height: 32px;\n",
              "      padding: 0 0 0 0;\n",
              "      width: 32px;\n",
              "    }\n",
              "\n",
              "    .colab-df-convert:hover {\n",
              "      background-color: #E2EBFA;\n",
              "      box-shadow: 0px 1px 2px rgba(60, 64, 67, 0.3), 0px 1px 3px 1px rgba(60, 64, 67, 0.15);\n",
              "      fill: #174EA6;\n",
              "    }\n",
              "\n",
              "    .colab-df-buttons div {\n",
              "      margin-bottom: 4px;\n",
              "    }\n",
              "\n",
              "    [theme=dark] .colab-df-convert {\n",
              "      background-color: #3B4455;\n",
              "      fill: #D2E3FC;\n",
              "    }\n",
              "\n",
              "    [theme=dark] .colab-df-convert:hover {\n",
              "      background-color: #434B5C;\n",
              "      box-shadow: 0px 1px 3px 1px rgba(0, 0, 0, 0.15);\n",
              "      filter: drop-shadow(0px 1px 2px rgba(0, 0, 0, 0.3));\n",
              "      fill: #FFFFFF;\n",
              "    }\n",
              "  </style>\n",
              "\n",
              "    <script>\n",
              "      const buttonEl =\n",
              "        document.querySelector('#df-625fdc2f-ce56-4151-9a00-5689136313d2 button.colab-df-convert');\n",
              "      buttonEl.style.display =\n",
              "        google.colab.kernel.accessAllowed ? 'block' : 'none';\n",
              "\n",
              "      async function convertToInteractive(key) {\n",
              "        const element = document.querySelector('#df-625fdc2f-ce56-4151-9a00-5689136313d2');\n",
              "        const dataTable =\n",
              "          await google.colab.kernel.invokeFunction('convertToInteractive',\n",
              "                                                    [key], {});\n",
              "        if (!dataTable) return;\n",
              "\n",
              "        const docLinkHtml = 'Like what you see? Visit the ' +\n",
              "          '<a target=\"_blank\" href=https://colab.research.google.com/notebooks/data_table.ipynb>data table notebook</a>'\n",
              "          + ' to learn more about interactive tables.';\n",
              "        element.innerHTML = '';\n",
              "        dataTable['output_type'] = 'display_data';\n",
              "        await google.colab.output.renderOutput(dataTable, element);\n",
              "        const docLink = document.createElement('div');\n",
              "        docLink.innerHTML = docLinkHtml;\n",
              "        element.appendChild(docLink);\n",
              "      }\n",
              "    </script>\n",
              "  </div>\n",
              "\n",
              "\n",
              "<div id=\"df-3df65ea1-331e-4ddc-90b8-53c335aa40df\">\n",
              "  <button class=\"colab-df-quickchart\" onclick=\"quickchart('df-3df65ea1-331e-4ddc-90b8-53c335aa40df')\"\n",
              "            title=\"Suggest charts\"\n",
              "            style=\"display:none;\">\n",
              "\n",
              "<svg xmlns=\"http://www.w3.org/2000/svg\" height=\"24px\"viewBox=\"0 0 24 24\"\n",
              "     width=\"24px\">\n",
              "    <g>\n",
              "        <path d=\"M19 3H5c-1.1 0-2 .9-2 2v14c0 1.1.9 2 2 2h14c1.1 0 2-.9 2-2V5c0-1.1-.9-2-2-2zM9 17H7v-7h2v7zm4 0h-2V7h2v10zm4 0h-2v-4h2v4z\"/>\n",
              "    </g>\n",
              "</svg>\n",
              "  </button>\n",
              "\n",
              "<style>\n",
              "  .colab-df-quickchart {\n",
              "      --bg-color: #E8F0FE;\n",
              "      --fill-color: #1967D2;\n",
              "      --hover-bg-color: #E2EBFA;\n",
              "      --hover-fill-color: #174EA6;\n",
              "      --disabled-fill-color: #AAA;\n",
              "      --disabled-bg-color: #DDD;\n",
              "  }\n",
              "\n",
              "  [theme=dark] .colab-df-quickchart {\n",
              "      --bg-color: #3B4455;\n",
              "      --fill-color: #D2E3FC;\n",
              "      --hover-bg-color: #434B5C;\n",
              "      --hover-fill-color: #FFFFFF;\n",
              "      --disabled-bg-color: #3B4455;\n",
              "      --disabled-fill-color: #666;\n",
              "  }\n",
              "\n",
              "  .colab-df-quickchart {\n",
              "    background-color: var(--bg-color);\n",
              "    border: none;\n",
              "    border-radius: 50%;\n",
              "    cursor: pointer;\n",
              "    display: none;\n",
              "    fill: var(--fill-color);\n",
              "    height: 32px;\n",
              "    padding: 0;\n",
              "    width: 32px;\n",
              "  }\n",
              "\n",
              "  .colab-df-quickchart:hover {\n",
              "    background-color: var(--hover-bg-color);\n",
              "    box-shadow: 0 1px 2px rgba(60, 64, 67, 0.3), 0 1px 3px 1px rgba(60, 64, 67, 0.15);\n",
              "    fill: var(--button-hover-fill-color);\n",
              "  }\n",
              "\n",
              "  .colab-df-quickchart-complete:disabled,\n",
              "  .colab-df-quickchart-complete:disabled:hover {\n",
              "    background-color: var(--disabled-bg-color);\n",
              "    fill: var(--disabled-fill-color);\n",
              "    box-shadow: none;\n",
              "  }\n",
              "\n",
              "  .colab-df-spinner {\n",
              "    border: 2px solid var(--fill-color);\n",
              "    border-color: transparent;\n",
              "    border-bottom-color: var(--fill-color);\n",
              "    animation:\n",
              "      spin 1s steps(1) infinite;\n",
              "  }\n",
              "\n",
              "  @keyframes spin {\n",
              "    0% {\n",
              "      border-color: transparent;\n",
              "      border-bottom-color: var(--fill-color);\n",
              "      border-left-color: var(--fill-color);\n",
              "    }\n",
              "    20% {\n",
              "      border-color: transparent;\n",
              "      border-left-color: var(--fill-color);\n",
              "      border-top-color: var(--fill-color);\n",
              "    }\n",
              "    30% {\n",
              "      border-color: transparent;\n",
              "      border-left-color: var(--fill-color);\n",
              "      border-top-color: var(--fill-color);\n",
              "      border-right-color: var(--fill-color);\n",
              "    }\n",
              "    40% {\n",
              "      border-color: transparent;\n",
              "      border-right-color: var(--fill-color);\n",
              "      border-top-color: var(--fill-color);\n",
              "    }\n",
              "    60% {\n",
              "      border-color: transparent;\n",
              "      border-right-color: var(--fill-color);\n",
              "    }\n",
              "    80% {\n",
              "      border-color: transparent;\n",
              "      border-right-color: var(--fill-color);\n",
              "      border-bottom-color: var(--fill-color);\n",
              "    }\n",
              "    90% {\n",
              "      border-color: transparent;\n",
              "      border-bottom-color: var(--fill-color);\n",
              "    }\n",
              "  }\n",
              "</style>\n",
              "\n",
              "  <script>\n",
              "    async function quickchart(key) {\n",
              "      const quickchartButtonEl =\n",
              "        document.querySelector('#' + key + ' button');\n",
              "      quickchartButtonEl.disabled = true;  // To prevent multiple clicks.\n",
              "      quickchartButtonEl.classList.add('colab-df-spinner');\n",
              "      try {\n",
              "        const charts = await google.colab.kernel.invokeFunction(\n",
              "            'suggestCharts', [key], {});\n",
              "      } catch (error) {\n",
              "        console.error('Error during call to suggestCharts:', error);\n",
              "      }\n",
              "      quickchartButtonEl.classList.remove('colab-df-spinner');\n",
              "      quickchartButtonEl.classList.add('colab-df-quickchart-complete');\n",
              "    }\n",
              "    (() => {\n",
              "      let quickchartButtonEl =\n",
              "        document.querySelector('#df-3df65ea1-331e-4ddc-90b8-53c335aa40df button');\n",
              "      quickchartButtonEl.style.display =\n",
              "        google.colab.kernel.accessAllowed ? 'block' : 'none';\n",
              "    })();\n",
              "  </script>\n",
              "</div>\n",
              "\n",
              "    </div>\n",
              "  </div>\n"
            ],
            "application/vnd.google.colaboratory.intrinsic+json": {
              "type": "dataframe",
              "variable_name": "samsung",
              "summary": "{\n  \"name\": \"samsung\",\n  \"rows\": 1199,\n  \"fields\": [\n    {\n      \"column\": \"Date\",\n      \"properties\": {\n        \"dtype\": \"date\",\n        \"min\": \"2020-01-02 00:00:00\",\n        \"max\": \"2024-11-13 00:00:00\",\n        \"num_unique_values\": 1199,\n        \"samples\": [\n          \"2024-10-15 00:00:00\",\n          \"2023-06-30 00:00:00\",\n          \"2020-06-01 00:00:00\"\n        ],\n        \"semantic_type\": \"\",\n        \"description\": \"\"\n      }\n    },\n    {\n      \"column\": \"Open\",\n      \"properties\": {\n        \"dtype\": \"number\",\n        \"std\": 10029,\n        \"min\": 42600,\n        \"max\": 90300,\n        \"num_unique_values\": 376,\n        \"samples\": [\n          66400,\n          80700,\n          73200\n        ],\n        \"semantic_type\": \"\",\n        \"description\": \"\"\n      }\n    },\n    {\n      \"column\": \"High\",\n      \"properties\": {\n        \"dtype\": \"number\",\n        \"std\": 10060,\n        \"min\": 43550,\n        \"max\": 96800,\n        \"num_unique_values\": 373,\n        \"samples\": [\n          66100,\n          55500,\n          61800\n        ],\n        \"semantic_type\": \"\",\n        \"description\": \"\"\n      }\n    },\n    {\n      \"column\": \"Low\",\n      \"properties\": {\n        \"dtype\": \"number\",\n        \"std\": 9971,\n        \"min\": 42300,\n        \"max\": 89500,\n        \"num_unique_values\": 370,\n        \"samples\": [\n          62800,\n          53700,\n          60700\n        ],\n        \"semantic_type\": \"\",\n        \"description\": \"\"\n      }\n    },\n    {\n      \"column\": \"Close\",\n      \"properties\": {\n        \"dtype\": \"number\",\n        \"std\": 10010,\n        \"min\": 42500,\n        \"max\": 91000,\n        \"num_unique_values\": 376,\n        \"samples\": [\n          67300,\n          72800,\n          78200\n        ],\n        \"semantic_type\": \"\",\n        \"description\": \"\"\n      }\n    },\n    {\n      \"column\": \"Volume\",\n      \"properties\": {\n        \"dtype\": \"number\",\n        \"std\": 8417245,\n        \"min\": 5767902,\n        \"max\": 90306177,\n        \"num_unique_values\": 1199,\n        \"samples\": [\n          22715239,\n          11694765,\n          16949183\n        ],\n        \"semantic_type\": \"\",\n        \"description\": \"\"\n      }\n    },\n    {\n      \"column\": \"Change\",\n      \"properties\": {\n        \"dtype\": \"number\",\n        \"std\": 0.016628559314740454,\n        \"min\": -0.10301507537688437,\n        \"max\": 0.1047058823529412,\n        \"num_unique_values\": 1068,\n        \"samples\": [\n          -0.015822784810126556,\n          0.0028776978417266452,\n          -0.00952380952380949\n        ],\n        \"semantic_type\": \"\",\n        \"description\": \"\"\n      }\n    }\n  ]\n}"
            }
          },
          "metadata": {},
          "execution_count": 6
        }
      ]
    },
    {
      "cell_type": "code",
      "source": [
        "seq_data = (samsung[['Open']]).to_numpy()"
      ],
      "metadata": {
        "id": "C3U4fZZlm5VB"
      },
      "execution_count": 7,
      "outputs": []
    },
    {
      "cell_type": "code",
      "source": [
        "plt.plot(seq_data, color='blue')\n",
        "plt.title(\"Samsung Electronics Stock Price\")\n",
        "plt.xlabel(\"days\")\n",
        "plt.xlabel(\"\")\n",
        "plt.show()"
      ],
      "metadata": {
        "colab": {
          "base_uri": "https://localhost:8080/",
          "height": 452
        },
        "id": "ohrvb5W2nDuK",
        "outputId": "c4494721-0ba3-426e-b59f-ed4ca7d3f189"
      },
      "execution_count": 11,
      "outputs": [
        {
          "output_type": "display_data",
          "data": {
            "text/plain": [
              "<Figure size 640x480 with 1 Axes>"
            ],
            "image/png": "[encoded data removed]"
          },
          "metadata": {}
        }
      ]
    },
    {
      "cell_type": "code",
      "source": [
        "pip install nltk"
      ],
      "metadata": {
        "colab": {
          "base_uri": "https://localhost:8080/"
        },
        "id": "Aml6cSw8nSRc",
        "outputId": "31179aba-2c3e-46aa-ff21-e1d2dfa43e8a"
      },
      "execution_count": 12,
      "outputs": [
        {
          "output_type": "stream",
          "name": "stdout",
          "text": [
            "Requirement already satisfied: nltk in /usr/local/lib/python3.10/dist-packages (3.9.1)\n",
            "Requirement already satisfied: click in /usr/local/lib/python3.10/dist-packages (from nltk) (8.1.7)\n",
            "Requirement already satisfied: joblib in /usr/local/lib/python3.10/dist-packages (from nltk) (1.4.2)\n",
            "Requirement already satisfied: regex>=2021.8.3 in /usr/local/lib/python3.10/dist-packages (from nltk) (2024.9.11)\n",
            "Requirement already satisfied: tqdm in /usr/local/lib/python3.10/dist-packages (from nltk) (4.66.6)\n"
          ]
        }
      ]
    },
    {
      "cell_type": "code",
      "source": [
        "import nltk\n",
        "nltk.download('punkt_tab')"
      ],
      "metadata": {
        "colab": {
          "base_uri": "https://localhost:8080/"
        },
        "id": "nSn5rYq7qSDN",
        "outputId": "907a3104-e1cb-4957-c8d8-45afc37552fb"
      },
      "execution_count": 16,
      "outputs": [
        {
          "output_type": "stream",
          "name": "stderr",
          "text": [
            "[nltk_data] Downloading package punkt_tab to /root/nltk_data...\n",
            "[nltk_data]   Unzipping tokenizers/punkt_tab.zip.\n"
          ]
        },
        {
          "output_type": "execute_result",
          "data": {
            "text/plain": [
              "True"
            ]
          },
          "metadata": {},
          "execution_count": 16
        }
      ]
    },
    {
      "cell_type": "code",
      "source": [
        "from nltk.tokenize import word_tokenize\n",
        "tokens = word_tokenize(\"Hello World!, This is a dog.\")\n",
        "words = [word for word in tokens if word.isalpha()]\n",
        "print(words)\n",
        "# ['Hello', 'World', 'This', 'is', 'a', 'dog'"
      ],
      "metadata": {
        "colab": {
          "base_uri": "https://localhost:8080/"
        },
        "id": "bZ4vVXsKqWwP",
        "outputId": "41812c81-f4cd-473a-8f0c-d708db6151b5"
      },
      "execution_count": 17,
      "outputs": [
        {
          "output_type": "stream",
          "name": "stdout",
          "text": [
            "['Hello', 'World', 'This', 'is', 'a', 'dog']\n"
          ]
        }
      ]
    },
    {
      "cell_type": "code",
      "source": [
        "nltk.download('punkt')\n",
        "nltk.download('stopwords')\n",
        "\n",
        "from nltk.corpus import stopwords\n",
        "print(stopwords.words('english')[:20])"
      ],
      "metadata": {
        "colab": {
          "base_uri": "https://localhost:8080/"
        },
        "id": "J5Yb9A3_q1ce",
        "outputId": "08f9e824-4ea3-4645-9ae0-2903448338af"
      },
      "execution_count": 19,
      "outputs": [
        {
          "output_type": "stream",
          "name": "stderr",
          "text": [
            "[nltk_data] Downloading package punkt to /root/nltk_data...\n",
            "[nltk_data]   Unzipping tokenizers/punkt.zip.\n"
          ]
        },
        {
          "output_type": "stream",
          "name": "stdout",
          "text": [
            "['i', 'me', 'my', 'myself', 'we', 'our', 'ours', 'ourselves', 'you', \"you're\", \"you've\", \"you'll\", \"you'd\", 'your', 'yours', 'yourself', 'yourselves', 'he', 'him', 'his']\n"
          ]
        },
        {
          "output_type": "stream",
          "name": "stderr",
          "text": [
            "[nltk_data] Downloading package stopwords to /root/nltk_data...\n",
            "[nltk_data]   Unzipping corpora/stopwords.zip.\n"
          ]
        }
      ]
    },
    {
      "cell_type": "code",
      "source": [
        "text = \"This is a dog.\"\n",
        "print(word_tokenize(text))"
      ],
      "metadata": {
        "colab": {
          "base_uri": "https://localhost:8080/"
        },
        "id": "mTHCYWxRuqM-",
        "outputId": "7d77a249-0a49-4240-9e24-82841403df07"
      },
      "execution_count": 20,
      "outputs": [
        {
          "output_type": "stream",
          "name": "stdout",
          "text": [
            "['This', 'is', 'a', 'dog', '.']\n"
          ]
        }
      ]
    },
    {
      "cell_type": "code",
      "source": [
        "from nltk.tokenize import sent_tokenize\n",
        "text = \"Hello World!, This is a dog.\"\n",
        "print(sent_tokenize(text))"
      ],
      "metadata": {
        "colab": {
          "base_uri": "https://localhost:8080/"
        },
        "id": "6J3vHqXBvBUF",
        "outputId": "259235b4-73b7-41ae-c136-d68a9f04500a"
      },
      "execution_count": 21,
      "outputs": [
        {
          "output_type": "stream",
          "name": "stdout",
          "text": [
            "['Hello World!, This is a dog.']\n"
          ]
        }
      ]
    },
    {
      "cell_type": "code",
      "source": [
        "from tensorflow.keras.preprocessing.text import *\n",
        "print(text_to_word_sequence(\"This is a dog.\"))"
      ],
      "metadata": {
        "colab": {
          "base_uri": "https://localhost:8080/"
        },
        "id": "hpPGTqt6vOBp",
        "outputId": "73b1b0a6-687a-4ee3-8beb-76472ca6b284"
      },
      "execution_count": 22,
      "outputs": [
        {
          "output_type": "stream",
          "name": "stdout",
          "text": [
            "['this', 'is', 'a', 'dog']\n"
          ]
        }
      ]
    },
    {
      "cell_type": "code",
      "source": [
        "import numpy as np\n",
        "from keras.utils import to_categorical\n",
        "\n",
        "# 우리가 변환하고 싶은 텍스트\n",
        "text = [\"cat\", \"dog\", \"cat\", \"bird\"]\n",
        "\n",
        "# 단어 집합\n",
        "total_pets = [\"cat\", \"dog\", \"turtle\", \"fish\", \"bird\"]\n",
        "print(\"text=\", text)"
      ],
      "metadata": {
        "colab": {
          "base_uri": "https://localhost:8080/"
        },
        "id": "wQVIHk1ivgOq",
        "outputId": "6e2c34ae-464a-49bb-f919-9241f860c4d0"
      },
      "execution_count": 23,
      "outputs": [
        {
          "output_type": "stream",
          "name": "stdout",
          "text": [
            "text= ['cat', 'dog', 'cat', 'bird']\n"
          ]
        }
      ]
    },
    {
      "cell_type": "code",
      "source": [
        "# 변환에 사용되는 딕셔너리를 만든다.\n",
        "mapping = {}\n",
        "for x in range(len(total_pets)):\n",
        "  mapping[total_pets[x]] = x\t#“cat\"->0, \"dog\"->1, ...\n",
        "print(mapping)\n",
        "\n",
        "# 단어들을 순차적인 정수 인덱스로 만든다.\n",
        "for x in range(len(text)):\n",
        "  text[x] = mapping[text[x]]\n",
        "\n",
        "print(\"text=\", text)\n",
        "\n",
        "# 순차적인 정수 인덱스를 원-핫 인코딩으로 만든다.\n",
        "one_hot_encode = to_categorical(text)\n",
        "print(\"text=\", one_hot_encode)\n",
        "\n"
      ],
      "metadata": {
        "colab": {
          "base_uri": "https://localhost:8080/"
        },
        "id": "aBvCYVihv5Bt",
        "outputId": "e9a7d93b-a81f-4f9c-d1f6-8ca148eaac05"
      },
      "execution_count": 24,
      "outputs": [
        {
          "output_type": "stream",
          "name": "stdout",
          "text": [
            "{'cat': 0, 'dog': 1, 'turtle': 2, 'fish': 3, 'bird': 4}\n",
            "text= [0, 1, 0, 4]\n",
            "text= [[1. 0. 0. 0. 0.]\n",
            " [0. 1. 0. 0. 0.]\n",
            " [1. 0. 0. 0. 0.]\n",
            " [0. 0. 0. 0. 1.]]\n"
          ]
        }
      ]
    },
    {
      "cell_type": "code",
      "source": [
        "from tensorflow.keras.preprocessing.text import Tokenizer\n",
        "\n",
        "t = Tokenizer()\n",
        "text = \"\"\"Deep learning is part of a broader family of machine learning methods\n",
        "\tbased on artificial neural networks with representation learning.\"\"\"\n",
        "\n",
        "t.fit_on_texts([text])\n",
        "print(\"단어집합 : \", t.word_index)\n"
      ],
      "metadata": {
        "colab": {
          "base_uri": "https://localhost:8080/"
        },
        "id": "_Zfc-sNhwIfK",
        "outputId": "670e4f32-acc9-4354-f1f3-7835474beb9f"
      },
      "execution_count": 25,
      "outputs": [
        {
          "output_type": "stream",
          "name": "stdout",
          "text": [
            "단어집합 :  {'learning': 1, 'of': 2, 'deep': 3, 'is': 4, 'part': 5, 'a': 6, 'broader': 7, 'family': 8, 'machine': 9, 'methods': 10, 'based': 11, 'on': 12, 'artificial': 13, 'neural': 14, 'networks': 15, 'with': 16, 'representation': 17}\n"
          ]
        }
      ]
    },
    {
      "cell_type": "code",
      "source": [
        "seq = t.texts_to_sequences([text])[0]\n",
        "print(text,\"->\", seq)\n"
      ],
      "metadata": {
        "colab": {
          "base_uri": "https://localhost:8080/"
        },
        "id": "xkbs36mMydVh",
        "outputId": "2950d360-a862-4f49-c46f-85a8c5d2cce6"
      },
      "execution_count": 26,
      "outputs": [
        {
          "output_type": "stream",
          "name": "stdout",
          "text": [
            "Deep learning is part of a broader family of machine learning methods\n",
            "\tbased on artificial neural networks with representation learning. -> [3, 1, 4, 5, 2, 6, 7, 8, 2, 9, 1, 10, 11, 12, 13, 14, 15, 16, 17, 1]\n"
          ]
        }
      ]
    },
    {
      "cell_type": "code",
      "source": [
        "from tensorflow.keras.preprocessing.sequence import pad_sequences\n",
        "\n",
        "X = pad_sequences([[7, 8, 9], [1, 2, 3, 4, 5], [7]], maxlen=3, padding='pre')\n",
        "print(X)\n"
      ],
      "metadata": {
        "colab": {
          "base_uri": "https://localhost:8080/"
        },
        "id": "QwlM9ZfFyxaa",
        "outputId": "982643d2-a13b-4ecf-8422-13ecd200094f"
      },
      "execution_count": 27,
      "outputs": [
        {
          "output_type": "stream",
          "name": "stdout",
          "text": [
            "[[7 8 9]\n",
            " [3 4 5]\n",
            " [0 0 7]]\n"
          ]
        }
      ]
    },
    {
      "cell_type": "code",
      "source": [
        "import numpy as np\n",
        "from tensorflow.keras.layers import Embedding\n",
        "from tensorflow.keras.models import Sequential\n",
        "\n",
        "# 입력 형태: (batch_size, input_length)=(32, 3)\n",
        "# 출력 형태: (None, 3, 4)\n",
        "model = Sequential()\n",
        "model.add(Embedding(100, 4, input_length=3))\n",
        "\n",
        "input_array = np.random.randint(100, size=(32, 3))\n",
        "model.compile('rmsprop', 'mse')\n",
        "output_array = model.predict(input_array)\n",
        "print(output_array.shape)\n"
      ],
      "metadata": {
        "colab": {
          "base_uri": "https://localhost:8080/"
        },
        "id": "jIHreqvHzCwk",
        "outputId": "611cfa66-58b2-4447-f94d-f12c0a86f922"
      },
      "execution_count": 28,
      "outputs": [
        {
          "output_type": "stream",
          "name": "stderr",
          "text": [
            "/usr/local/lib/python3.10/dist-packages/keras/src/layers/core/embedding.py:90: UserWarning: Argument `input_length` is deprecated. Just remove it.\n",
            "  warnings.warn(\n"
          ]
        },
        {
          "output_type": "stream",
          "name": "stdout",
          "text": [
            "\u001b[1m1/1\u001b[0m \u001b[32m━━━━━━━━━━━━━━━━━━━━\u001b[0m\u001b[37m\u001b[0m \u001b[1m0s\u001b[0m 358ms/step\n",
            "(32, 3, 4)\n"
          ]
        }
      ]
    },
    {
      "cell_type": "code",
      "source": [
        "import numpy as np\n",
        "from tensorflow.keras.layers import Embedding, Flatten, Dense\n",
        "from tensorflow.keras.models import Sequential\n",
        "from tensorflow.keras.preprocessing.text import one_hot\n",
        "from tensorflow.keras.preprocessing.sequence import pad_sequences\n",
        "\n",
        "docs = [\t'additional income',\n",
        "\t\t'best price',\n",
        "\t\t'big bucks',\n",
        "\t\t'cash bonus',\n",
        "\t\t'earn extra cash',\n",
        "\t\t'spring savings certificate',\n",
        "\t\t'valero gas marketing',\n",
        "\t\t'all domestic employees',\n",
        "\t\t'nominations for oct',\n",
        "\t\t'confirmation from spinner']\n"
      ],
      "metadata": {
        "id": "YxPR6Dy7zWWO"
      },
      "execution_count": 29,
      "outputs": []
    },
    {
      "cell_type": "code",
      "source": [
        "\n",
        "labels = np.array([1,1,1,1,1,0,0,0,0,0])\n",
        "\n",
        "vocab_size = 50\n",
        "encoded_docs = [one_hot(d, vocab_size) for d in docs]\n",
        "print(encoded_docs)\n",
        "\n"
      ],
      "metadata": {
        "colab": {
          "base_uri": "https://localhost:8080/"
        },
        "id": "oWyhNiny1AJD",
        "outputId": "949c56c8-826c-480d-dd3a-b973e98d9fcb"
      },
      "execution_count": 30,
      "outputs": [
        {
          "output_type": "stream",
          "name": "stdout",
          "text": [
            "[[6, 37], [11, 39], [29, 33], [32, 16], [41, 13, 32], [9, 20, 9], [17, 27, 28], [49, 6, 21], [45, 19, 40], [1, 17, 22]]\n"
          ]
        }
      ]
    },
    {
      "cell_type": "code",
      "source": [
        "max_length = 4\n",
        "padded_docs = pad_sequences(encoded_docs, maxlen=max_length, padding='post')\n",
        "print(padded_docs)"
      ],
      "metadata": {
        "colab": {
          "base_uri": "https://localhost:8080/"
        },
        "id": "RnbjggbX1E7T",
        "outputId": "5b1b52a8-1516-4eb3-9106-7fe0270c79c6"
      },
      "execution_count": 31,
      "outputs": [
        {
          "output_type": "stream",
          "name": "stdout",
          "text": [
            "[[ 6 37  0  0]\n",
            " [11 39  0  0]\n",
            " [29 33  0  0]\n",
            " [32 16  0  0]\n",
            " [41 13 32  0]\n",
            " [ 9 20  9  0]\n",
            " [17 27 28  0]\n",
            " [49  6 21  0]\n",
            " [45 19 40  0]\n",
            " [ 1 17 22  0]]\n"
          ]
        }
      ]
    },
    {
      "cell_type": "code",
      "source": [
        "model = Sequential()\n",
        "model.add(Embedding(vocab_size, 8, input_length=max_length))\n",
        "model.add(Flatten())\n",
        "model.add(Dense(1, activation='sigmoid'))\n",
        "\n",
        "model.compile(optimizer='adam', loss='binary_crossentropy', metrics=['accuracy'])\n",
        "\n",
        "model.fit(padded_docs, labels, epochs=50, verbose=0)\n",
        "\n",
        "loss, accuracy = model.evaluate(padded_docs, labels, verbose=0)\n",
        "print('정확도=', accuracy)"
      ],
      "metadata": {
        "colab": {
          "base_uri": "https://localhost:8080/"
        },
        "id": "dRkhCQ5u1Qly",
        "outputId": "bc52b76d-50ff-497c-fe8c-6001d249787c"
      },
      "execution_count": 32,
      "outputs": [
        {
          "output_type": "stream",
          "name": "stdout",
          "text": [
            "정확도= 1.0\n"
          ]
        }
      ]
    },
    {
      "cell_type": "code",
      "source": [
        "test_doc = ['big income']\n",
        "encoded_docs = [one_hot(d, vocab_size) for d in test_doc]\n",
        "padded_docs = pad_sequences(encoded_docs, maxlen=max_length, padding='post')\n",
        "\n",
        "print(model.predict(padded_docs))"
      ],
      "metadata": {
        "colab": {
          "base_uri": "https://localhost:8080/"
        },
        "id": "OznNdeMA1YPs",
        "outputId": "e01c0323-3ad3-4129-c609-0154e0936ecf"
      },
      "execution_count": 33,
      "outputs": [
        {
          "output_type": "stream",
          "name": "stdout",
          "text": [
            "\u001b[1m1/1\u001b[0m \u001b[32m━━━━━━━━━━━━━━━━━━━━\u001b[0m\u001b[37m\u001b[0m \u001b[1m0s\u001b[0m 169ms/step\n",
            "[[0.5965438]]\n"
          ]
        }
      ]
    },
    {
      "cell_type": "code",
      "source": [
        "import numpy as np\n",
        "from tensorflow.keras.layers import Embedding, Flatten, Dense\n",
        "from tensorflow.keras.models import Sequential\n",
        "from tensorflow.keras.preprocessing.text import one_hot\n",
        "from tensorflow.keras.preprocessing.sequence import pad_sequences\n",
        "from tensorflow.keras.preprocessing.text import Tokenizer\n",
        "from tensorflow.keras.utils import to_categorical\n",
        "\n",
        "text_data=\"\"\"Soft as the voice of an angel\\n\n",
        "Breathing a lesson unhead\\n\n",
        "Hope with a gentle persuasion\\n\n",
        "Whispers her comforting word\\n\n",
        "Wait till the darkness is over\\n\n",
        "Wait till the tempest is done\\n\n",
        "Hope for sunshine tomorrow\\n\n",
        "After the shower\n",
        "\"\"\""
      ],
      "metadata": {
        "id": "HPBty1Ew1hsI"
      },
      "execution_count": 35,
      "outputs": []
    },
    {
      "cell_type": "code",
      "source": [
        "tokenizer = Tokenizer()\n",
        "tokenizer.fit_on_texts([text_data])\n",
        "encoded = tokenizer.texts_to_sequences([text_data])[0]\n",
        "print(encoded)"
      ],
      "metadata": {
        "colab": {
          "base_uri": "https://localhost:8080/"
        },
        "id": "MPdDeMUj2C-C",
        "outputId": "cac4ff4e-f2fe-4812-d75e-a7dd4a5dd59f"
      },
      "execution_count": 36,
      "outputs": [
        {
          "output_type": "stream",
          "name": "stdout",
          "text": [
            "[7, 8, 1, 9, 10, 11, 12, 13, 2, 14, 15, 3, 16, 2, 17, 18, 19, 20, 21, 22, 4, 5, 1, 23, 6, 24, 4, 5, 1, 25, 6, 26, 3, 27, 28, 29, 30, 1, 31]\n"
          ]
        }
      ]
    },
    {
      "cell_type": "code",
      "source": [
        "print(tokenizer.word_index)\n",
        "vocab_size = len(tokenizer.word_index) + 1\n",
        "print('어휘 크기: %d' % vocab_size)"
      ],
      "metadata": {
        "colab": {
          "base_uri": "https://localhost:8080/"
        },
        "id": "EXdxhjtb2MSp",
        "outputId": "b59c60d0-356a-4f4f-fcbe-52057a3393df"
      },
      "execution_count": 37,
      "outputs": [
        {
          "output_type": "stream",
          "name": "stdout",
          "text": [
            "{'the': 1, 'a': 2, 'hope': 3, 'wait': 4, 'till': 5, 'is': 6, 'soft': 7, 'as': 8, 'voice': 9, 'of': 10, 'an': 11, 'angel': 12, 'breathing': 13, 'lesson': 14, 'unhead': 15, 'with': 16, 'gentle': 17, 'persuasion': 18, 'whispers': 19, 'her': 20, 'comforting': 21, 'word': 22, 'darkness': 23, 'over': 24, 'tempest': 25, 'done': 26, 'for': 27, 'sunshine': 28, 'tomorrow': 29, 'after': 30, 'shower': 31}\n",
            "어휘 크기: 32\n"
          ]
        }
      ]
    },
    {
      "cell_type": "code",
      "source": [
        "sequences = list()\n",
        "for i in range(1, len(encoded)):\n",
        "\tsequence = encoded[i-1:i+1]\n",
        "\tsequences.append(sequence)\n",
        "print(sequences)\n",
        "print('총 시퀀스 개수: %d' % len(sequences))"
      ],
      "metadata": {
        "colab": {
          "base_uri": "https://localhost:8080/"
        },
        "id": "7JPPkigy2P3Q",
        "outputId": "b8eee56a-508d-4fc1-9896-b05d12098e25"
      },
      "execution_count": 38,
      "outputs": [
        {
          "output_type": "stream",
          "name": "stdout",
          "text": [
            "[[7, 8], [8, 1], [1, 9], [9, 10], [10, 11], [11, 12], [12, 13], [13, 2], [2, 14], [14, 15], [15, 3], [3, 16], [16, 2], [2, 17], [17, 18], [18, 19], [19, 20], [20, 21], [21, 22], [22, 4], [4, 5], [5, 1], [1, 23], [23, 6], [6, 24], [24, 4], [4, 5], [5, 1], [1, 25], [25, 6], [6, 26], [26, 3], [3, 27], [27, 28], [28, 29], [29, 30], [30, 1], [1, 31]]\n",
            "총 시퀀스 개수: 38\n"
          ]
        }
      ]
    },
    {
      "cell_type": "code",
      "source": [
        "sequences = np.array(sequences)\n",
        "X, y = sequences[:,0],sequences[:,1]\n",
        "print(\"X=\", X)\n",
        "print(\"y=\", y)"
      ],
      "metadata": {
        "colab": {
          "base_uri": "https://localhost:8080/"
        },
        "id": "nYF7mVVS2WTF",
        "outputId": "ef42511b-fc81-46b2-88a6-eca933b8bd3b"
      },
      "execution_count": 39,
      "outputs": [
        {
          "output_type": "stream",
          "name": "stdout",
          "text": [
            "X= [ 7  8  1  9 10 11 12 13  2 14 15  3 16  2 17 18 19 20 21 22  4  5  1 23\n",
            "  6 24  4  5  1 25  6 26  3 27 28 29 30  1]\n",
            "y= [ 8  1  9 10 11 12 13  2 14 15  3 16  2 17 18 19 20 21 22  4  5  1 23  6\n",
            " 24  4  5  1 25  6 26  3 27 28 29 30  1 31]\n"
          ]
        }
      ]
    },
    {
      "cell_type": "code",
      "source": [
        "from tensorflow.keras.models import Sequential\n",
        "from tensorflow.keras.layers import Embedding, Dense, SimpleRNN, LSTM, Reshape\n",
        "\n",
        "model = Sequential()\n",
        "model.add(Embedding(vocab_size, 10, input_length=1))\n",
        "model.add(Reshape((1, 10)))\n",
        "model.add(LSTM(50))\n",
        "model.add(Dense(vocab_size, activation='softmax'))"
      ],
      "metadata": {
        "id": "4xEZ7uri2Z4w"
      },
      "execution_count": 45,
      "outputs": []
    },
    {
      "cell_type": "code",
      "source": [
        "model.compile(loss='sparse_categorical_crossentropy', optimizer='adam',\tmetrics=['accuracy'])\n",
        "\n",
        "model.fit(X, y, epochs=500, verbose=2)"
      ],
      "metadata": {
        "colab": {
          "base_uri": "https://localhost:8080/"
        },
        "id": "kPVBrect2fWd",
        "outputId": "433c17de-9bf6-4557-932a-85c810cd2af0"
      },
      "execution_count": 46,
      "outputs": [
        {
          "output_type": "stream",
          "name": "stdout",
          "text": [
            "Epoch 1/500\n",
            "2/2 - 2s - 1s/step - accuracy: 0.0263 - loss: 3.4659\n",
            "Epoch 2/500\n",
            "2/2 - 0s - 16ms/step - accuracy: 0.0789 - loss: 3.4647\n",
            "Epoch 3/500\n",
            "2/2 - 0s - 30ms/step - accuracy: 0.0789 - loss: 3.4635\n",
            "Epoch 4/500\n",
            "2/2 - 0s - 20ms/step - accuracy: 0.1316 - loss: 3.4626\n",
            "Epoch 5/500\n",
            "2/2 - 0s - 16ms/step - accuracy: 0.1316 - loss: 3.4616\n",
            "Epoch 6/500\n",
            "2/2 - 0s - 16ms/step - accuracy: 0.1316 - loss: 3.4606\n",
            "Epoch 7/500\n",
            "2/2 - 0s - 29ms/step - accuracy: 0.1316 - loss: 3.4597\n",
            "Epoch 8/500\n",
            "2/2 - 0s - 17ms/step - accuracy: 0.1316 - loss: 3.4587\n",
            "Epoch 9/500\n",
            "2/2 - 0s - 17ms/step - accuracy: 0.1316 - loss: 3.4579\n",
            "Epoch 10/500\n",
            "2/2 - 0s - 29ms/step - accuracy: 0.1316 - loss: 3.4569\n",
            "Epoch 11/500\n",
            "2/2 - 0s - 29ms/step - accuracy: 0.1316 - loss: 3.4559\n",
            "Epoch 12/500\n",
            "2/2 - 0s - 28ms/step - accuracy: 0.1053 - loss: 3.4549\n",
            "Epoch 13/500\n",
            "2/2 - 0s - 16ms/step - accuracy: 0.1053 - loss: 3.4539\n",
            "Epoch 14/500\n",
            "2/2 - 0s - 16ms/step - accuracy: 0.1053 - loss: 3.4529\n",
            "Epoch 15/500\n",
            "2/2 - 0s - 29ms/step - accuracy: 0.1053 - loss: 3.4518\n",
            "Epoch 16/500\n",
            "2/2 - 0s - 29ms/step - accuracy: 0.1053 - loss: 3.4508\n",
            "Epoch 17/500\n",
            "2/2 - 0s - 17ms/step - accuracy: 0.1053 - loss: 3.4497\n",
            "Epoch 18/500\n",
            "2/2 - 0s - 15ms/step - accuracy: 0.1053 - loss: 3.4486\n",
            "Epoch 19/500\n",
            "2/2 - 0s - 16ms/step - accuracy: 0.1053 - loss: 3.4475\n",
            "Epoch 20/500\n",
            "2/2 - 0s - 17ms/step - accuracy: 0.1053 - loss: 3.4463\n",
            "Epoch 21/500\n",
            "2/2 - 0s - 31ms/step - accuracy: 0.1053 - loss: 3.4450\n",
            "Epoch 22/500\n",
            "2/2 - 0s - 26ms/step - accuracy: 0.1053 - loss: 3.4437\n",
            "Epoch 23/500\n",
            "2/2 - 0s - 16ms/step - accuracy: 0.1053 - loss: 3.4423\n",
            "Epoch 24/500\n",
            "2/2 - 0s - 29ms/step - accuracy: 0.1053 - loss: 3.4408\n",
            "Epoch 25/500\n",
            "2/2 - 0s - 20ms/step - accuracy: 0.1053 - loss: 3.4394\n",
            "Epoch 26/500\n",
            "2/2 - 0s - 20ms/step - accuracy: 0.1053 - loss: 3.4377\n",
            "Epoch 27/500\n",
            "2/2 - 0s - 20ms/step - accuracy: 0.1053 - loss: 3.4361\n",
            "Epoch 28/500\n",
            "2/2 - 0s - 21ms/step - accuracy: 0.1053 - loss: 3.4343\n",
            "Epoch 29/500\n",
            "2/2 - 0s - 21ms/step - accuracy: 0.1053 - loss: 3.4325\n",
            "Epoch 30/500\n",
            "2/2 - 0s - 19ms/step - accuracy: 0.1053 - loss: 3.4306\n",
            "Epoch 31/500\n",
            "2/2 - 0s - 17ms/step - accuracy: 0.1053 - loss: 3.4287\n",
            "Epoch 32/500\n",
            "2/2 - 0s - 28ms/step - accuracy: 0.1053 - loss: 3.4266\n",
            "Epoch 33/500\n",
            "2/2 - 0s - 16ms/step - accuracy: 0.1053 - loss: 3.4246\n",
            "Epoch 34/500\n",
            "2/2 - 0s - 16ms/step - accuracy: 0.1053 - loss: 3.4223\n",
            "Epoch 35/500\n",
            "2/2 - 0s - 29ms/step - accuracy: 0.1053 - loss: 3.4201\n",
            "Epoch 36/500\n",
            "2/2 - 0s - 17ms/step - accuracy: 0.1053 - loss: 3.4176\n",
            "Epoch 37/500\n",
            "2/2 - 0s - 30ms/step - accuracy: 0.1053 - loss: 3.4150\n",
            "Epoch 38/500\n",
            "2/2 - 0s - 17ms/step - accuracy: 0.1053 - loss: 3.4121\n",
            "Epoch 39/500\n",
            "2/2 - 0s - 16ms/step - accuracy: 0.1053 - loss: 3.4095\n",
            "Epoch 40/500\n",
            "2/2 - 0s - 16ms/step - accuracy: 0.1053 - loss: 3.4064\n",
            "Epoch 41/500\n",
            "2/2 - 0s - 15ms/step - accuracy: 0.1053 - loss: 3.4033\n",
            "Epoch 42/500\n",
            "2/2 - 0s - 16ms/step - accuracy: 0.1053 - loss: 3.4001\n",
            "Epoch 43/500\n",
            "2/2 - 0s - 29ms/step - accuracy: 0.1316 - loss: 3.3969\n",
            "Epoch 44/500\n",
            "2/2 - 0s - 17ms/step - accuracy: 0.1316 - loss: 3.3935\n",
            "Epoch 45/500\n",
            "2/2 - 0s - 18ms/step - accuracy: 0.1316 - loss: 3.3898\n",
            "Epoch 46/500\n",
            "2/2 - 0s - 28ms/step - accuracy: 0.1316 - loss: 3.3860\n",
            "Epoch 47/500\n",
            "2/2 - 0s - 28ms/step - accuracy: 0.1316 - loss: 3.3819\n",
            "Epoch 48/500\n",
            "2/2 - 0s - 21ms/step - accuracy: 0.1316 - loss: 3.3775\n",
            "Epoch 49/500\n",
            "2/2 - 0s - 27ms/step - accuracy: 0.1316 - loss: 3.3731\n",
            "Epoch 50/500\n",
            "2/2 - 0s - 27ms/step - accuracy: 0.1316 - loss: 3.3683\n",
            "Epoch 51/500\n",
            "2/2 - 0s - 16ms/step - accuracy: 0.1316 - loss: 3.3635\n",
            "Epoch 52/500\n",
            "2/2 - 0s - 16ms/step - accuracy: 0.1316 - loss: 3.3581\n",
            "Epoch 53/500\n",
            "2/2 - 0s - 18ms/step - accuracy: 0.1316 - loss: 3.3526\n",
            "Epoch 54/500\n",
            "2/2 - 0s - 16ms/step - accuracy: 0.1316 - loss: 3.3469\n",
            "Epoch 55/500\n",
            "2/2 - 0s - 16ms/step - accuracy: 0.1316 - loss: 3.3407\n",
            "Epoch 56/500\n",
            "2/2 - 0s - 16ms/step - accuracy: 0.1316 - loss: 3.3346\n",
            "Epoch 57/500\n",
            "2/2 - 0s - 16ms/step - accuracy: 0.1316 - loss: 3.3278\n",
            "Epoch 58/500\n",
            "2/2 - 0s - 29ms/step - accuracy: 0.1316 - loss: 3.3213\n",
            "Epoch 59/500\n",
            "2/2 - 0s - 28ms/step - accuracy: 0.1316 - loss: 3.3142\n",
            "Epoch 60/500\n",
            "2/2 - 0s - 16ms/step - accuracy: 0.1316 - loss: 3.3072\n",
            "Epoch 61/500\n",
            "2/2 - 0s - 16ms/step - accuracy: 0.1316 - loss: 3.2991\n",
            "Epoch 62/500\n",
            "2/2 - 0s - 29ms/step - accuracy: 0.1316 - loss: 3.2914\n",
            "Epoch 63/500\n",
            "2/2 - 0s - 16ms/step - accuracy: 0.1316 - loss: 3.2828\n",
            "Epoch 64/500\n",
            "2/2 - 0s - 16ms/step - accuracy: 0.1316 - loss: 3.2739\n",
            "Epoch 65/500\n",
            "2/2 - 0s - 20ms/step - accuracy: 0.1316 - loss: 3.2645\n",
            "Epoch 66/500\n",
            "2/2 - 0s - 16ms/step - accuracy: 0.1316 - loss: 3.2550\n",
            "Epoch 67/500\n",
            "2/2 - 0s - 29ms/step - accuracy: 0.1316 - loss: 3.2441\n",
            "Epoch 68/500\n",
            "2/2 - 0s - 29ms/step - accuracy: 0.1316 - loss: 3.2347\n",
            "Epoch 69/500\n",
            "2/2 - 0s - 22ms/step - accuracy: 0.1316 - loss: 3.2235\n",
            "Epoch 70/500\n",
            "2/2 - 0s - 28ms/step - accuracy: 0.1316 - loss: 3.2117\n",
            "Epoch 71/500\n",
            "2/2 - 0s - 18ms/step - accuracy: 0.1316 - loss: 3.2011\n",
            "Epoch 72/500\n",
            "2/2 - 0s - 16ms/step - accuracy: 0.1316 - loss: 3.1893\n",
            "Epoch 73/500\n",
            "2/2 - 0s - 17ms/step - accuracy: 0.1316 - loss: 3.1768\n",
            "Epoch 74/500\n",
            "2/2 - 0s - 18ms/step - accuracy: 0.1316 - loss: 3.1650\n",
            "Epoch 75/500\n",
            "2/2 - 0s - 30ms/step - accuracy: 0.1316 - loss: 3.1521\n",
            "Epoch 76/500\n",
            "2/2 - 0s - 16ms/step - accuracy: 0.1316 - loss: 3.1396\n",
            "Epoch 77/500\n",
            "2/2 - 0s - 15ms/step - accuracy: 0.1316 - loss: 3.1257\n",
            "Epoch 78/500\n",
            "2/2 - 0s - 18ms/step - accuracy: 0.1316 - loss: 3.1122\n",
            "Epoch 79/500\n",
            "2/2 - 0s - 16ms/step - accuracy: 0.1316 - loss: 3.0982\n",
            "Epoch 80/500\n",
            "2/2 - 0s - 16ms/step - accuracy: 0.1316 - loss: 3.0832\n",
            "Epoch 81/500\n",
            "2/2 - 0s - 30ms/step - accuracy: 0.1316 - loss: 3.0685\n",
            "Epoch 82/500\n",
            "2/2 - 0s - 29ms/step - accuracy: 0.1579 - loss: 3.0530\n",
            "Epoch 83/500\n",
            "2/2 - 0s - 28ms/step - accuracy: 0.1579 - loss: 3.0367\n",
            "Epoch 84/500\n",
            "2/2 - 0s - 16ms/step - accuracy: 0.1842 - loss: 3.0206\n",
            "Epoch 85/500\n",
            "2/2 - 0s - 16ms/step - accuracy: 0.1842 - loss: 3.0043\n",
            "Epoch 86/500\n",
            "2/2 - 0s - 28ms/step - accuracy: 0.1842 - loss: 2.9866\n",
            "Epoch 87/500\n",
            "2/2 - 0s - 30ms/step - accuracy: 0.1842 - loss: 2.9686\n",
            "Epoch 88/500\n",
            "2/2 - 0s - 21ms/step - accuracy: 0.1842 - loss: 2.9511\n",
            "Epoch 89/500\n",
            "2/2 - 0s - 21ms/step - accuracy: 0.1842 - loss: 2.9339\n",
            "Epoch 90/500\n",
            "2/2 - 0s - 21ms/step - accuracy: 0.2105 - loss: 2.9146\n",
            "Epoch 91/500\n",
            "2/2 - 0s - 27ms/step - accuracy: 0.2105 - loss: 2.8963\n",
            "Epoch 92/500\n",
            "2/2 - 0s - 16ms/step - accuracy: 0.2105 - loss: 2.8785\n",
            "Epoch 93/500\n",
            "2/2 - 0s - 16ms/step - accuracy: 0.2105 - loss: 2.8595\n",
            "Epoch 94/500\n",
            "2/2 - 0s - 30ms/step - accuracy: 0.2105 - loss: 2.8418\n",
            "Epoch 95/500\n",
            "2/2 - 0s - 30ms/step - accuracy: 0.2105 - loss: 2.8235\n",
            "Epoch 96/500\n",
            "2/2 - 0s - 17ms/step - accuracy: 0.2105 - loss: 2.8056\n",
            "Epoch 97/500\n",
            "2/2 - 0s - 16ms/step - accuracy: 0.2105 - loss: 2.7873\n",
            "Epoch 98/500\n",
            "2/2 - 0s - 16ms/step - accuracy: 0.2368 - loss: 2.7695\n",
            "Epoch 99/500\n",
            "2/2 - 0s - 16ms/step - accuracy: 0.2368 - loss: 2.7515\n",
            "Epoch 100/500\n",
            "2/2 - 0s - 29ms/step - accuracy: 0.2895 - loss: 2.7337\n",
            "Epoch 101/500\n",
            "2/2 - 0s - 17ms/step - accuracy: 0.2895 - loss: 2.7158\n",
            "Epoch 102/500\n",
            "2/2 - 0s - 30ms/step - accuracy: 0.2895 - loss: 2.6964\n",
            "Epoch 103/500\n",
            "2/2 - 0s - 17ms/step - accuracy: 0.3158 - loss: 2.6789\n",
            "Epoch 104/500\n",
            "2/2 - 0s - 29ms/step - accuracy: 0.3158 - loss: 2.6594\n",
            "Epoch 105/500\n",
            "2/2 - 0s - 27ms/step - accuracy: 0.3158 - loss: 2.6410\n",
            "Epoch 106/500\n",
            "2/2 - 0s - 35ms/step - accuracy: 0.3158 - loss: 2.6221\n",
            "Epoch 107/500\n",
            "2/2 - 0s - 68ms/step - accuracy: 0.3421 - loss: 2.6038\n",
            "Epoch 108/500\n",
            "2/2 - 0s - 67ms/step - accuracy: 0.3684 - loss: 2.5847\n",
            "Epoch 109/500\n",
            "2/2 - 0s - 28ms/step - accuracy: 0.3684 - loss: 2.5665\n",
            "Epoch 110/500\n",
            "2/2 - 0s - 29ms/step - accuracy: 0.3684 - loss: 2.5487\n",
            "Epoch 111/500\n",
            "2/2 - 0s - 29ms/step - accuracy: 0.3684 - loss: 2.5306\n",
            "Epoch 112/500\n",
            "2/2 - 0s - 22ms/step - accuracy: 0.3684 - loss: 2.5128\n",
            "Epoch 113/500\n",
            "2/2 - 0s - 29ms/step - accuracy: 0.3684 - loss: 2.4960\n",
            "Epoch 114/500\n",
            "2/2 - 0s - 26ms/step - accuracy: 0.3684 - loss: 2.4789\n",
            "Epoch 115/500\n",
            "2/2 - 0s - 29ms/step - accuracy: 0.3684 - loss: 2.4616\n",
            "Epoch 116/500\n",
            "2/2 - 0s - 28ms/step - accuracy: 0.3684 - loss: 2.4443\n",
            "Epoch 117/500\n",
            "2/2 - 0s - 26ms/step - accuracy: 0.3684 - loss: 2.4276\n",
            "Epoch 118/500\n",
            "2/2 - 0s - 28ms/step - accuracy: 0.3684 - loss: 2.4106\n",
            "Epoch 119/500\n",
            "2/2 - 0s - 22ms/step - accuracy: 0.3684 - loss: 2.3937\n",
            "Epoch 120/500\n",
            "2/2 - 0s - 74ms/step - accuracy: 0.3684 - loss: 2.3771\n",
            "Epoch 121/500\n",
            "2/2 - 0s - 25ms/step - accuracy: 0.3684 - loss: 2.3601\n",
            "Epoch 122/500\n",
            "2/2 - 0s - 29ms/step - accuracy: 0.3684 - loss: 2.3438\n",
            "Epoch 123/500\n",
            "2/2 - 0s - 32ms/step - accuracy: 0.3684 - loss: 2.3271\n",
            "Epoch 124/500\n",
            "2/2 - 0s - 29ms/step - accuracy: 0.3684 - loss: 2.3112\n",
            "Epoch 125/500\n",
            "2/2 - 0s - 31ms/step - accuracy: 0.3947 - loss: 2.2946\n",
            "Epoch 126/500\n",
            "2/2 - 0s - 27ms/step - accuracy: 0.4474 - loss: 2.2786\n",
            "Epoch 127/500\n",
            "2/2 - 0s - 28ms/step - accuracy: 0.4474 - loss: 2.2627\n",
            "Epoch 128/500\n",
            "2/2 - 0s - 24ms/step - accuracy: 0.4474 - loss: 2.2462\n",
            "Epoch 129/500\n",
            "2/2 - 0s - 23ms/step - accuracy: 0.4474 - loss: 2.2299\n",
            "Epoch 130/500\n",
            "2/2 - 0s - 31ms/step - accuracy: 0.4737 - loss: 2.2142\n",
            "Epoch 131/500\n",
            "2/2 - 0s - 28ms/step - accuracy: 0.4737 - loss: 2.1979\n",
            "Epoch 132/500\n",
            "2/2 - 0s - 30ms/step - accuracy: 0.4737 - loss: 2.1822\n",
            "Epoch 133/500\n",
            "2/2 - 0s - 22ms/step - accuracy: 0.4737 - loss: 2.1662\n",
            "Epoch 134/500\n",
            "2/2 - 0s - 31ms/step - accuracy: 0.4737 - loss: 2.1502\n",
            "Epoch 135/500\n",
            "2/2 - 0s - 65ms/step - accuracy: 0.4737 - loss: 2.1348\n",
            "Epoch 136/500\n",
            "2/2 - 0s - 34ms/step - accuracy: 0.4737 - loss: 2.1189\n",
            "Epoch 137/500\n",
            "2/2 - 0s - 26ms/step - accuracy: 0.5000 - loss: 2.1036\n",
            "Epoch 138/500\n",
            "2/2 - 0s - 25ms/step - accuracy: 0.5000 - loss: 2.0878\n",
            "Epoch 139/500\n",
            "2/2 - 0s - 26ms/step - accuracy: 0.5263 - loss: 2.0725\n",
            "Epoch 140/500\n",
            "2/2 - 0s - 71ms/step - accuracy: 0.5526 - loss: 2.0568\n",
            "Epoch 141/500\n",
            "2/2 - 0s - 27ms/step - accuracy: 0.5526 - loss: 2.0411\n",
            "Epoch 142/500\n",
            "2/2 - 0s - 31ms/step - accuracy: 0.5526 - loss: 2.0264\n",
            "Epoch 143/500\n",
            "2/2 - 0s - 29ms/step - accuracy: 0.5526 - loss: 2.0104\n",
            "Epoch 144/500\n",
            "2/2 - 0s - 27ms/step - accuracy: 0.5526 - loss: 1.9951\n",
            "Epoch 145/500\n",
            "2/2 - 0s - 29ms/step - accuracy: 0.5526 - loss: 1.9803\n",
            "Epoch 146/500\n",
            "2/2 - 0s - 25ms/step - accuracy: 0.5526 - loss: 1.9659\n",
            "Epoch 147/500\n",
            "2/2 - 0s - 16ms/step - accuracy: 0.5526 - loss: 1.9508\n",
            "Epoch 148/500\n",
            "2/2 - 0s - 22ms/step - accuracy: 0.5526 - loss: 1.9359\n",
            "Epoch 149/500\n",
            "2/2 - 0s - 21ms/step - accuracy: 0.5526 - loss: 1.9219\n",
            "Epoch 150/500\n",
            "2/2 - 0s - 29ms/step - accuracy: 0.5526 - loss: 1.9071\n",
            "Epoch 151/500\n",
            "2/2 - 0s - 19ms/step - accuracy: 0.5526 - loss: 1.8928\n",
            "Epoch 152/500\n",
            "2/2 - 0s - 17ms/step - accuracy: 0.5526 - loss: 1.8782\n",
            "Epoch 153/500\n",
            "2/2 - 0s - 16ms/step - accuracy: 0.5526 - loss: 1.8640\n",
            "Epoch 154/500\n",
            "2/2 - 0s - 16ms/step - accuracy: 0.5526 - loss: 1.8503\n",
            "Epoch 155/500\n",
            "2/2 - 0s - 16ms/step - accuracy: 0.5526 - loss: 1.8364\n",
            "Epoch 156/500\n",
            "2/2 - 0s - 16ms/step - accuracy: 0.5526 - loss: 1.8224\n",
            "Epoch 157/500\n",
            "2/2 - 0s - 30ms/step - accuracy: 0.5789 - loss: 1.8083\n",
            "Epoch 158/500\n",
            "2/2 - 0s - 28ms/step - accuracy: 0.5789 - loss: 1.7946\n",
            "Epoch 159/500\n",
            "2/2 - 0s - 27ms/step - accuracy: 0.6053 - loss: 1.7806\n",
            "Epoch 160/500\n",
            "2/2 - 0s - 16ms/step - accuracy: 0.6053 - loss: 1.7671\n",
            "Epoch 161/500\n",
            "2/2 - 0s - 30ms/step - accuracy: 0.6053 - loss: 1.7536\n",
            "Epoch 162/500\n",
            "2/2 - 0s - 17ms/step - accuracy: 0.6053 - loss: 1.7399\n",
            "Epoch 163/500\n",
            "2/2 - 0s - 17ms/step - accuracy: 0.6053 - loss: 1.7268\n",
            "Epoch 164/500\n",
            "2/2 - 0s - 17ms/step - accuracy: 0.6053 - loss: 1.7133\n",
            "Epoch 165/500\n",
            "2/2 - 0s - 17ms/step - accuracy: 0.6053 - loss: 1.7001\n",
            "Epoch 166/500\n",
            "2/2 - 0s - 16ms/step - accuracy: 0.6053 - loss: 1.6867\n",
            "Epoch 167/500\n",
            "2/2 - 0s - 15ms/step - accuracy: 0.6316 - loss: 1.6740\n",
            "Epoch 168/500\n",
            "2/2 - 0s - 30ms/step - accuracy: 0.6316 - loss: 1.6607\n",
            "Epoch 169/500\n",
            "2/2 - 0s - 20ms/step - accuracy: 0.6316 - loss: 1.6473\n",
            "Epoch 170/500\n",
            "2/2 - 0s - 28ms/step - accuracy: 0.6316 - loss: 1.6346\n",
            "Epoch 171/500\n",
            "2/2 - 0s - 20ms/step - accuracy: 0.6316 - loss: 1.6217\n",
            "Epoch 172/500\n",
            "2/2 - 0s - 28ms/step - accuracy: 0.6316 - loss: 1.6089\n",
            "Epoch 173/500\n",
            "2/2 - 0s - 22ms/step - accuracy: 0.6316 - loss: 1.5963\n",
            "Epoch 174/500\n",
            "2/2 - 0s - 28ms/step - accuracy: 0.6316 - loss: 1.5837\n",
            "Epoch 175/500\n",
            "2/2 - 0s - 19ms/step - accuracy: 0.6316 - loss: 1.5712\n",
            "Epoch 176/500\n",
            "2/2 - 0s - 16ms/step - accuracy: 0.6316 - loss: 1.5584\n",
            "Epoch 177/500\n",
            "2/2 - 0s - 16ms/step - accuracy: 0.6316 - loss: 1.5460\n",
            "Epoch 178/500\n",
            "2/2 - 0s - 28ms/step - accuracy: 0.6316 - loss: 1.5337\n",
            "Epoch 179/500\n",
            "2/2 - 0s - 17ms/step - accuracy: 0.6316 - loss: 1.5215\n",
            "Epoch 180/500\n",
            "2/2 - 0s - 31ms/step - accuracy: 0.6316 - loss: 1.5092\n",
            "Epoch 181/500\n",
            "2/2 - 0s - 27ms/step - accuracy: 0.6316 - loss: 1.4969\n",
            "Epoch 182/500\n",
            "2/2 - 0s - 18ms/step - accuracy: 0.6316 - loss: 1.4848\n",
            "Epoch 183/500\n",
            "2/2 - 0s - 18ms/step - accuracy: 0.6316 - loss: 1.4730\n",
            "Epoch 184/500\n",
            "2/2 - 0s - 16ms/step - accuracy: 0.6579 - loss: 1.4611\n",
            "Epoch 185/500\n",
            "2/2 - 0s - 15ms/step - accuracy: 0.6579 - loss: 1.4492\n",
            "Epoch 186/500\n",
            "2/2 - 0s - 17ms/step - accuracy: 0.6579 - loss: 1.4378\n",
            "Epoch 187/500\n",
            "2/2 - 0s - 18ms/step - accuracy: 0.6579 - loss: 1.4262\n",
            "Epoch 188/500\n",
            "2/2 - 0s - 16ms/step - accuracy: 0.6842 - loss: 1.4147\n",
            "Epoch 189/500\n",
            "2/2 - 0s - 30ms/step - accuracy: 0.6842 - loss: 1.4035\n",
            "Epoch 190/500\n",
            "2/2 - 0s - 30ms/step - accuracy: 0.7105 - loss: 1.3926\n",
            "Epoch 191/500\n",
            "2/2 - 0s - 28ms/step - accuracy: 0.7105 - loss: 1.3817\n",
            "Epoch 192/500\n",
            "2/2 - 0s - 30ms/step - accuracy: 0.7105 - loss: 1.3704\n",
            "Epoch 193/500\n",
            "2/2 - 0s - 25ms/step - accuracy: 0.7105 - loss: 1.3596\n",
            "Epoch 194/500\n",
            "2/2 - 0s - 29ms/step - accuracy: 0.6842 - loss: 1.3487\n",
            "Epoch 195/500\n",
            "2/2 - 0s - 27ms/step - accuracy: 0.6842 - loss: 1.3378\n",
            "Epoch 196/500\n",
            "2/2 - 0s - 15ms/step - accuracy: 0.6842 - loss: 1.3267\n",
            "Epoch 197/500\n",
            "2/2 - 0s - 29ms/step - accuracy: 0.7105 - loss: 1.3158\n",
            "Epoch 198/500\n",
            "2/2 - 0s - 16ms/step - accuracy: 0.7105 - loss: 1.3055\n",
            "Epoch 199/500\n",
            "2/2 - 0s - 29ms/step - accuracy: 0.7105 - loss: 1.2944\n",
            "Epoch 200/500\n",
            "2/2 - 0s - 17ms/step - accuracy: 0.7105 - loss: 1.2845\n",
            "Epoch 201/500\n",
            "2/2 - 0s - 19ms/step - accuracy: 0.7105 - loss: 1.2734\n",
            "Epoch 202/500\n",
            "2/2 - 0s - 27ms/step - accuracy: 0.7105 - loss: 1.2628\n",
            "Epoch 203/500\n",
            "2/2 - 0s - 16ms/step - accuracy: 0.7105 - loss: 1.2527\n",
            "Epoch 204/500\n",
            "2/2 - 0s - 29ms/step - accuracy: 0.7105 - loss: 1.2417\n",
            "Epoch 205/500\n",
            "2/2 - 0s - 29ms/step - accuracy: 0.7105 - loss: 1.2316\n",
            "Epoch 206/500\n",
            "2/2 - 0s - 16ms/step - accuracy: 0.7105 - loss: 1.2212\n",
            "Epoch 207/500\n",
            "2/2 - 0s - 16ms/step - accuracy: 0.7105 - loss: 1.2115\n",
            "Epoch 208/500\n",
            "2/2 - 0s - 17ms/step - accuracy: 0.7368 - loss: 1.2016\n",
            "Epoch 209/500\n",
            "2/2 - 0s - 30ms/step - accuracy: 0.7632 - loss: 1.1920\n",
            "Epoch 210/500\n",
            "2/2 - 0s - 19ms/step - accuracy: 0.7632 - loss: 1.1819\n",
            "Epoch 211/500\n",
            "2/2 - 0s - 21ms/step - accuracy: 0.7895 - loss: 1.1722\n",
            "Epoch 212/500\n",
            "2/2 - 0s - 28ms/step - accuracy: 0.7895 - loss: 1.1630\n",
            "Epoch 213/500\n",
            "2/2 - 0s - 28ms/step - accuracy: 0.7895 - loss: 1.1535\n",
            "Epoch 214/500\n",
            "2/2 - 0s - 16ms/step - accuracy: 0.7895 - loss: 1.1437\n",
            "Epoch 215/500\n",
            "2/2 - 0s - 17ms/step - accuracy: 0.7895 - loss: 1.1338\n",
            "Epoch 216/500\n",
            "2/2 - 0s - 16ms/step - accuracy: 0.7895 - loss: 1.1242\n",
            "Epoch 217/500\n",
            "2/2 - 0s - 17ms/step - accuracy: 0.8158 - loss: 1.1148\n",
            "Epoch 218/500\n",
            "2/2 - 0s - 29ms/step - accuracy: 0.8158 - loss: 1.1051\n",
            "Epoch 219/500\n",
            "2/2 - 0s - 17ms/step - accuracy: 0.8158 - loss: 1.0953\n",
            "Epoch 220/500\n",
            "2/2 - 0s - 16ms/step - accuracy: 0.8158 - loss: 1.0860\n",
            "Epoch 221/500\n",
            "2/2 - 0s - 16ms/step - accuracy: 0.7895 - loss: 1.0765\n",
            "Epoch 222/500\n",
            "2/2 - 0s - 16ms/step - accuracy: 0.7895 - loss: 1.0680\n",
            "Epoch 223/500\n",
            "2/2 - 0s - 29ms/step - accuracy: 0.7632 - loss: 1.0591\n",
            "Epoch 224/500\n",
            "2/2 - 0s - 16ms/step - accuracy: 0.7895 - loss: 1.0501\n",
            "Epoch 225/500\n",
            "2/2 - 0s - 17ms/step - accuracy: 0.7895 - loss: 1.0419\n",
            "Epoch 226/500\n",
            "2/2 - 0s - 16ms/step - accuracy: 0.7895 - loss: 1.0325\n",
            "Epoch 227/500\n",
            "2/2 - 0s - 29ms/step - accuracy: 0.7895 - loss: 1.0241\n",
            "Epoch 228/500\n",
            "2/2 - 0s - 16ms/step - accuracy: 0.8158 - loss: 1.0155\n",
            "Epoch 229/500\n",
            "2/2 - 0s - 15ms/step - accuracy: 0.8158 - loss: 1.0068\n",
            "Epoch 230/500\n",
            "2/2 - 0s - 22ms/step - accuracy: 0.8158 - loss: 0.9986\n",
            "Epoch 231/500\n",
            "2/2 - 0s - 28ms/step - accuracy: 0.8158 - loss: 0.9898\n",
            "Epoch 232/500\n",
            "2/2 - 0s - 22ms/step - accuracy: 0.8158 - loss: 0.9818\n",
            "Epoch 233/500\n",
            "2/2 - 0s - 29ms/step - accuracy: 0.8158 - loss: 0.9742\n",
            "Epoch 234/500\n",
            "2/2 - 0s - 25ms/step - accuracy: 0.8158 - loss: 0.9657\n",
            "Epoch 235/500\n",
            "2/2 - 0s - 24ms/step - accuracy: 0.8158 - loss: 0.9581\n",
            "Epoch 236/500\n",
            "2/2 - 0s - 17ms/step - accuracy: 0.8158 - loss: 0.9509\n",
            "Epoch 237/500\n",
            "2/2 - 0s - 16ms/step - accuracy: 0.8158 - loss: 0.9432\n",
            "Epoch 238/500\n",
            "2/2 - 0s - 18ms/step - accuracy: 0.8158 - loss: 0.9354\n",
            "Epoch 239/500\n",
            "2/2 - 0s - 17ms/step - accuracy: 0.8158 - loss: 0.9282\n",
            "Epoch 240/500\n",
            "2/2 - 0s - 15ms/step - accuracy: 0.8158 - loss: 0.9215\n",
            "Epoch 241/500\n",
            "2/2 - 0s - 29ms/step - accuracy: 0.8158 - loss: 0.9140\n",
            "Epoch 242/500\n",
            "2/2 - 0s - 17ms/step - accuracy: 0.8158 - loss: 0.9067\n",
            "Epoch 243/500\n",
            "2/2 - 0s - 17ms/step - accuracy: 0.8158 - loss: 0.8997\n",
            "Epoch 244/500\n",
            "2/2 - 0s - 29ms/step - accuracy: 0.8158 - loss: 0.8931\n",
            "Epoch 245/500\n",
            "2/2 - 0s - 16ms/step - accuracy: 0.8158 - loss: 0.8855\n",
            "Epoch 246/500\n",
            "2/2 - 0s - 16ms/step - accuracy: 0.8158 - loss: 0.8786\n",
            "Epoch 247/500\n",
            "2/2 - 0s - 28ms/step - accuracy: 0.8158 - loss: 0.8715\n",
            "Epoch 248/500\n",
            "2/2 - 0s - 29ms/step - accuracy: 0.8158 - loss: 0.8646\n",
            "Epoch 249/500\n",
            "2/2 - 0s - 17ms/step - accuracy: 0.8158 - loss: 0.8569\n",
            "Epoch 250/500\n",
            "2/2 - 0s - 17ms/step - accuracy: 0.8158 - loss: 0.8499\n",
            "Epoch 251/500\n",
            "2/2 - 0s - 23ms/step - accuracy: 0.8158 - loss: 0.8432\n",
            "Epoch 252/500\n",
            "2/2 - 0s - 21ms/step - accuracy: 0.8158 - loss: 0.8368\n",
            "Epoch 253/500\n",
            "2/2 - 0s - 29ms/step - accuracy: 0.8158 - loss: 0.8300\n",
            "Epoch 254/500\n",
            "2/2 - 0s - 22ms/step - accuracy: 0.8158 - loss: 0.8230\n",
            "Epoch 255/500\n",
            "2/2 - 0s - 19ms/step - accuracy: 0.8158 - loss: 0.8168\n",
            "Epoch 256/500\n",
            "2/2 - 0s - 28ms/step - accuracy: 0.8158 - loss: 0.8103\n",
            "Epoch 257/500\n",
            "2/2 - 0s - 16ms/step - accuracy: 0.8158 - loss: 0.8041\n",
            "Epoch 258/500\n",
            "2/2 - 0s - 17ms/step - accuracy: 0.8158 - loss: 0.7980\n",
            "Epoch 259/500\n",
            "2/2 - 0s - 30ms/step - accuracy: 0.8158 - loss: 0.7912\n",
            "Epoch 260/500\n",
            "2/2 - 0s - 29ms/step - accuracy: 0.8158 - loss: 0.7854\n",
            "Epoch 261/500\n",
            "2/2 - 0s - 16ms/step - accuracy: 0.8158 - loss: 0.7791\n",
            "Epoch 262/500\n",
            "2/2 - 0s - 16ms/step - accuracy: 0.8158 - loss: 0.7733\n",
            "Epoch 263/500\n",
            "2/2 - 0s - 16ms/step - accuracy: 0.8158 - loss: 0.7672\n",
            "Epoch 264/500\n",
            "2/2 - 0s - 16ms/step - accuracy: 0.8158 - loss: 0.7612\n",
            "Epoch 265/500\n",
            "2/2 - 0s - 29ms/step - accuracy: 0.8158 - loss: 0.7552\n",
            "Epoch 266/500\n",
            "2/2 - 0s - 29ms/step - accuracy: 0.8158 - loss: 0.7498\n",
            "Epoch 267/500\n",
            "2/2 - 0s - 15ms/step - accuracy: 0.8158 - loss: 0.7439\n",
            "Epoch 268/500\n",
            "2/2 - 0s - 17ms/step - accuracy: 0.8158 - loss: 0.7380\n",
            "Epoch 269/500\n",
            "2/2 - 0s - 15ms/step - accuracy: 0.8158 - loss: 0.7320\n",
            "Epoch 270/500\n",
            "2/2 - 0s - 15ms/step - accuracy: 0.8158 - loss: 0.7267\n",
            "Epoch 271/500\n",
            "2/2 - 0s - 16ms/step - accuracy: 0.8158 - loss: 0.7211\n",
            "Epoch 272/500\n",
            "2/2 - 0s - 30ms/step - accuracy: 0.8158 - loss: 0.7155\n",
            "Epoch 273/500\n",
            "2/2 - 0s - 29ms/step - accuracy: 0.8158 - loss: 0.7101\n",
            "Epoch 274/500\n",
            "2/2 - 0s - 29ms/step - accuracy: 0.8158 - loss: 0.7044\n",
            "Epoch 275/500\n",
            "2/2 - 0s - 27ms/step - accuracy: 0.8158 - loss: 0.7000\n",
            "Epoch 276/500\n",
            "2/2 - 0s - 16ms/step - accuracy: 0.8158 - loss: 0.6946\n",
            "Epoch 277/500\n",
            "2/2 - 0s - 29ms/step - accuracy: 0.8158 - loss: 0.6889\n",
            "Epoch 278/500\n",
            "2/2 - 0s - 29ms/step - accuracy: 0.8158 - loss: 0.6843\n",
            "Epoch 279/500\n",
            "2/2 - 0s - 29ms/step - accuracy: 0.8158 - loss: 0.6793\n",
            "Epoch 280/500\n",
            "2/2 - 0s - 28ms/step - accuracy: 0.8158 - loss: 0.6746\n",
            "Epoch 281/500\n",
            "2/2 - 0s - 16ms/step - accuracy: 0.8158 - loss: 0.6697\n",
            "Epoch 282/500\n",
            "2/2 - 0s - 16ms/step - accuracy: 0.8158 - loss: 0.6647\n",
            "Epoch 283/500\n",
            "2/2 - 0s - 16ms/step - accuracy: 0.8158 - loss: 0.6601\n",
            "Epoch 284/500\n",
            "2/2 - 0s - 30ms/step - accuracy: 0.8158 - loss: 0.6561\n",
            "Epoch 285/500\n",
            "2/2 - 0s - 28ms/step - accuracy: 0.8158 - loss: 0.6512\n",
            "Epoch 286/500\n",
            "2/2 - 0s - 17ms/step - accuracy: 0.8158 - loss: 0.6469\n",
            "Epoch 287/500\n",
            "2/2 - 0s - 16ms/step - accuracy: 0.8421 - loss: 0.6428\n",
            "Epoch 288/500\n",
            "2/2 - 0s - 29ms/step - accuracy: 0.8421 - loss: 0.6385\n",
            "Epoch 289/500\n",
            "2/2 - 0s - 15ms/step - accuracy: 0.8421 - loss: 0.6349\n",
            "Epoch 290/500\n",
            "2/2 - 0s - 16ms/step - accuracy: 0.8421 - loss: 0.6304\n",
            "Epoch 291/500\n",
            "2/2 - 0s - 30ms/step - accuracy: 0.8421 - loss: 0.6263\n",
            "Epoch 292/500\n",
            "2/2 - 0s - 28ms/step - accuracy: 0.8421 - loss: 0.6227\n",
            "Epoch 293/500\n",
            "2/2 - 0s - 28ms/step - accuracy: 0.8421 - loss: 0.6185\n",
            "Epoch 294/500\n",
            "2/2 - 0s - 28ms/step - accuracy: 0.8421 - loss: 0.6145\n",
            "Epoch 295/500\n",
            "2/2 - 0s - 16ms/step - accuracy: 0.8421 - loss: 0.6104\n",
            "Epoch 296/500\n",
            "2/2 - 0s - 16ms/step - accuracy: 0.8421 - loss: 0.6062\n",
            "Epoch 297/500\n",
            "2/2 - 0s - 30ms/step - accuracy: 0.8421 - loss: 0.6028\n",
            "Epoch 298/500\n",
            "2/2 - 0s - 27ms/step - accuracy: 0.8421 - loss: 0.5993\n",
            "Epoch 299/500\n",
            "2/2 - 0s - 16ms/step - accuracy: 0.8158 - loss: 0.5956\n",
            "Epoch 300/500\n",
            "2/2 - 0s - 17ms/step - accuracy: 0.8421 - loss: 0.5917\n",
            "Epoch 301/500\n",
            "2/2 - 0s - 29ms/step - accuracy: 0.8421 - loss: 0.5881\n",
            "Epoch 302/500\n",
            "2/2 - 0s - 17ms/step - accuracy: 0.8421 - loss: 0.5842\n",
            "Epoch 303/500\n",
            "2/2 - 0s - 16ms/step - accuracy: 0.8421 - loss: 0.5809\n",
            "Epoch 304/500\n",
            "2/2 - 0s - 16ms/step - accuracy: 0.8421 - loss: 0.5771\n",
            "Epoch 305/500\n",
            "2/2 - 0s - 15ms/step - accuracy: 0.8421 - loss: 0.5733\n",
            "Epoch 306/500\n",
            "2/2 - 0s - 15ms/step - accuracy: 0.8421 - loss: 0.5701\n",
            "Epoch 307/500\n",
            "2/2 - 0s - 30ms/step - accuracy: 0.8421 - loss: 0.5671\n",
            "Epoch 308/500\n",
            "2/2 - 0s - 19ms/step - accuracy: 0.8421 - loss: 0.5637\n",
            "Epoch 309/500\n",
            "2/2 - 0s - 16ms/step - accuracy: 0.8421 - loss: 0.5604\n",
            "Epoch 310/500\n",
            "2/2 - 0s - 16ms/step - accuracy: 0.8421 - loss: 0.5572\n",
            "Epoch 311/500\n",
            "2/2 - 0s - 17ms/step - accuracy: 0.8421 - loss: 0.5543\n",
            "Epoch 312/500\n",
            "2/2 - 0s - 21ms/step - accuracy: 0.8421 - loss: 0.5512\n",
            "Epoch 313/500\n",
            "2/2 - 0s - 19ms/step - accuracy: 0.8421 - loss: 0.5480\n",
            "Epoch 314/500\n",
            "2/2 - 0s - 28ms/step - accuracy: 0.8421 - loss: 0.5448\n",
            "Epoch 315/500\n",
            "2/2 - 0s - 21ms/step - accuracy: 0.8421 - loss: 0.5419\n",
            "Epoch 316/500\n",
            "2/2 - 0s - 19ms/step - accuracy: 0.8421 - loss: 0.5389\n",
            "Epoch 317/500\n",
            "2/2 - 0s - 28ms/step - accuracy: 0.8421 - loss: 0.5358\n",
            "Epoch 318/500\n",
            "2/2 - 0s - 18ms/step - accuracy: 0.8421 - loss: 0.5330\n",
            "Epoch 319/500\n",
            "2/2 - 0s - 29ms/step - accuracy: 0.8421 - loss: 0.5303\n",
            "Epoch 320/500\n",
            "2/2 - 0s - 29ms/step - accuracy: 0.8421 - loss: 0.5275\n",
            "Epoch 321/500\n",
            "2/2 - 0s - 17ms/step - accuracy: 0.8421 - loss: 0.5247\n",
            "Epoch 322/500\n",
            "2/2 - 0s - 16ms/step - accuracy: 0.8421 - loss: 0.5218\n",
            "Epoch 323/500\n",
            "2/2 - 0s - 15ms/step - accuracy: 0.8421 - loss: 0.5189\n",
            "Epoch 324/500\n",
            "2/2 - 0s - 17ms/step - accuracy: 0.8421 - loss: 0.5163\n",
            "Epoch 325/500\n",
            "2/2 - 0s - 16ms/step - accuracy: 0.8421 - loss: 0.5134\n",
            "Epoch 326/500\n",
            "2/2 - 0s - 16ms/step - accuracy: 0.8421 - loss: 0.5110\n",
            "Epoch 327/500\n",
            "2/2 - 0s - 20ms/step - accuracy: 0.8421 - loss: 0.5082\n",
            "Epoch 328/500\n",
            "2/2 - 0s - 17ms/step - accuracy: 0.8421 - loss: 0.5059\n",
            "Epoch 329/500\n",
            "2/2 - 0s - 17ms/step - accuracy: 0.8421 - loss: 0.5033\n",
            "Epoch 330/500\n",
            "2/2 - 0s - 29ms/step - accuracy: 0.8421 - loss: 0.5009\n",
            "Epoch 331/500\n",
            "2/2 - 0s - 16ms/step - accuracy: 0.8421 - loss: 0.4985\n",
            "Epoch 332/500\n",
            "2/2 - 0s - 15ms/step - accuracy: 0.8421 - loss: 0.4961\n",
            "Epoch 333/500\n",
            "2/2 - 0s - 16ms/step - accuracy: 0.8421 - loss: 0.4936\n",
            "Epoch 334/500\n",
            "2/2 - 0s - 29ms/step - accuracy: 0.8421 - loss: 0.4910\n",
            "Epoch 335/500\n",
            "2/2 - 0s - 30ms/step - accuracy: 0.8421 - loss: 0.4886\n",
            "Epoch 336/500\n",
            "2/2 - 0s - 27ms/step - accuracy: 0.8421 - loss: 0.4864\n",
            "Epoch 337/500\n",
            "2/2 - 0s - 22ms/step - accuracy: 0.8421 - loss: 0.4843\n",
            "Epoch 338/500\n",
            "2/2 - 0s - 28ms/step - accuracy: 0.8421 - loss: 0.4821\n",
            "Epoch 339/500\n",
            "2/2 - 0s - 16ms/step - accuracy: 0.8421 - loss: 0.4800\n",
            "Epoch 340/500\n",
            "2/2 - 0s - 16ms/step - accuracy: 0.8421 - loss: 0.4781\n",
            "Epoch 341/500\n",
            "2/2 - 0s - 28ms/step - accuracy: 0.8421 - loss: 0.4755\n",
            "Epoch 342/500\n",
            "2/2 - 0s - 18ms/step - accuracy: 0.8421 - loss: 0.4734\n",
            "Epoch 343/500\n",
            "2/2 - 0s - 21ms/step - accuracy: 0.8421 - loss: 0.4709\n",
            "Epoch 344/500\n",
            "2/2 - 0s - 30ms/step - accuracy: 0.8421 - loss: 0.4688\n",
            "Epoch 345/500\n",
            "2/2 - 0s - 17ms/step - accuracy: 0.8421 - loss: 0.4667\n",
            "Epoch 346/500\n",
            "2/2 - 0s - 16ms/step - accuracy: 0.8421 - loss: 0.4644\n",
            "Epoch 347/500\n",
            "2/2 - 0s - 16ms/step - accuracy: 0.8421 - loss: 0.4625\n",
            "Epoch 348/500\n",
            "2/2 - 0s - 18ms/step - accuracy: 0.8421 - loss: 0.4603\n",
            "Epoch 349/500\n",
            "2/2 - 0s - 16ms/step - accuracy: 0.8421 - loss: 0.4584\n",
            "Epoch 350/500\n",
            "2/2 - 0s - 29ms/step - accuracy: 0.8421 - loss: 0.4566\n",
            "Epoch 351/500\n",
            "2/2 - 0s - 16ms/step - accuracy: 0.8421 - loss: 0.4544\n",
            "Epoch 352/500\n",
            "2/2 - 0s - 17ms/step - accuracy: 0.8421 - loss: 0.4527\n",
            "Epoch 353/500\n",
            "2/2 - 0s - 27ms/step - accuracy: 0.8421 - loss: 0.4510\n",
            "Epoch 354/500\n",
            "2/2 - 0s - 30ms/step - accuracy: 0.8421 - loss: 0.4489\n",
            "Epoch 355/500\n",
            "2/2 - 0s - 70ms/step - accuracy: 0.8421 - loss: 0.4471\n",
            "Epoch 356/500\n",
            "2/2 - 0s - 64ms/step - accuracy: 0.8421 - loss: 0.4453\n",
            "Epoch 357/500\n",
            "2/2 - 0s - 28ms/step - accuracy: 0.8421 - loss: 0.4435\n",
            "Epoch 358/500\n",
            "2/2 - 0s - 28ms/step - accuracy: 0.8421 - loss: 0.4419\n",
            "Epoch 359/500\n",
            "2/2 - 0s - 30ms/step - accuracy: 0.8421 - loss: 0.4401\n",
            "Epoch 360/500\n",
            "2/2 - 0s - 23ms/step - accuracy: 0.8421 - loss: 0.4382\n",
            "Epoch 361/500\n",
            "2/2 - 0s - 22ms/step - accuracy: 0.8421 - loss: 0.4363\n",
            "Epoch 362/500\n",
            "2/2 - 0s - 24ms/step - accuracy: 0.8421 - loss: 0.4345\n",
            "Epoch 363/500\n",
            "2/2 - 0s - 29ms/step - accuracy: 0.8421 - loss: 0.4328\n",
            "Epoch 364/500\n",
            "2/2 - 0s - 29ms/step - accuracy: 0.8421 - loss: 0.4309\n",
            "Epoch 365/500\n",
            "2/2 - 0s - 29ms/step - accuracy: 0.8421 - loss: 0.4292\n",
            "Epoch 366/500\n",
            "2/2 - 0s - 27ms/step - accuracy: 0.8421 - loss: 0.4279\n",
            "Epoch 367/500\n",
            "2/2 - 0s - 25ms/step - accuracy: 0.8421 - loss: 0.4266\n",
            "Epoch 368/500\n",
            "2/2 - 0s - 34ms/step - accuracy: 0.8421 - loss: 0.4249\n",
            "Epoch 369/500\n",
            "2/2 - 0s - 29ms/step - accuracy: 0.8421 - loss: 0.4235\n",
            "Epoch 370/500\n",
            "2/2 - 0s - 23ms/step - accuracy: 0.8421 - loss: 0.4220\n",
            "Epoch 371/500\n",
            "2/2 - 0s - 22ms/step - accuracy: 0.8421 - loss: 0.4204\n",
            "Epoch 372/500\n",
            "2/2 - 0s - 22ms/step - accuracy: 0.8421 - loss: 0.4191\n",
            "Epoch 373/500\n",
            "2/2 - 0s - 29ms/step - accuracy: 0.8421 - loss: 0.4174\n",
            "Epoch 374/500\n",
            "2/2 - 0s - 22ms/step - accuracy: 0.8421 - loss: 0.4161\n",
            "Epoch 375/500\n",
            "2/2 - 0s - 70ms/step - accuracy: 0.8421 - loss: 0.4143\n",
            "Epoch 376/500\n",
            "2/2 - 0s - 26ms/step - accuracy: 0.8421 - loss: 0.4127\n",
            "Epoch 377/500\n",
            "2/2 - 0s - 65ms/step - accuracy: 0.8421 - loss: 0.4110\n",
            "Epoch 378/500\n",
            "2/2 - 0s - 24ms/step - accuracy: 0.8421 - loss: 0.4092\n",
            "Epoch 379/500\n",
            "2/2 - 0s - 32ms/step - accuracy: 0.8421 - loss: 0.4075\n",
            "Epoch 380/500\n",
            "2/2 - 0s - 28ms/step - accuracy: 0.8421 - loss: 0.4059\n",
            "Epoch 381/500\n",
            "2/2 - 0s - 25ms/step - accuracy: 0.8421 - loss: 0.4049\n",
            "Epoch 382/500\n",
            "2/2 - 0s - 28ms/step - accuracy: 0.8421 - loss: 0.4032\n",
            "Epoch 383/500\n",
            "2/2 - 0s - 30ms/step - accuracy: 0.8421 - loss: 0.4016\n",
            "Epoch 384/500\n",
            "2/2 - 0s - 27ms/step - accuracy: 0.8421 - loss: 0.4002\n",
            "Epoch 385/500\n",
            "2/2 - 0s - 26ms/step - accuracy: 0.8421 - loss: 0.3984\n",
            "Epoch 386/500\n",
            "2/2 - 0s - 30ms/step - accuracy: 0.8421 - loss: 0.3972\n",
            "Epoch 387/500\n",
            "2/2 - 0s - 24ms/step - accuracy: 0.8421 - loss: 0.3960\n",
            "Epoch 388/500\n",
            "2/2 - 0s - 26ms/step - accuracy: 0.8421 - loss: 0.3944\n",
            "Epoch 389/500\n",
            "2/2 - 0s - 29ms/step - accuracy: 0.8421 - loss: 0.3929\n",
            "Epoch 390/500\n",
            "2/2 - 0s - 31ms/step - accuracy: 0.8421 - loss: 0.3915\n",
            "Epoch 391/500\n",
            "2/2 - 0s - 26ms/step - accuracy: 0.8421 - loss: 0.3903\n",
            "Epoch 392/500\n",
            "2/2 - 0s - 24ms/step - accuracy: 0.8421 - loss: 0.3891\n",
            "Epoch 393/500\n",
            "2/2 - 0s - 31ms/step - accuracy: 0.8421 - loss: 0.3879\n",
            "Epoch 394/500\n",
            "2/2 - 0s - 34ms/step - accuracy: 0.8421 - loss: 0.3869\n",
            "Epoch 395/500\n",
            "2/2 - 0s - 36ms/step - accuracy: 0.8421 - loss: 0.3856\n",
            "Epoch 396/500\n",
            "2/2 - 0s - 25ms/step - accuracy: 0.8421 - loss: 0.3843\n",
            "Epoch 397/500\n",
            "2/2 - 0s - 67ms/step - accuracy: 0.8421 - loss: 0.3833\n",
            "Epoch 398/500\n",
            "2/2 - 0s - 16ms/step - accuracy: 0.8421 - loss: 0.3820\n",
            "Epoch 399/500\n",
            "2/2 - 0s - 16ms/step - accuracy: 0.8421 - loss: 0.3808\n",
            "Epoch 400/500\n",
            "2/2 - 0s - 16ms/step - accuracy: 0.8421 - loss: 0.3798\n",
            "Epoch 401/500\n",
            "2/2 - 0s - 16ms/step - accuracy: 0.8421 - loss: 0.3786\n",
            "Epoch 402/500\n",
            "2/2 - 0s - 30ms/step - accuracy: 0.8421 - loss: 0.3778\n",
            "Epoch 403/500\n",
            "2/2 - 0s - 16ms/step - accuracy: 0.8421 - loss: 0.3764\n",
            "Epoch 404/500\n",
            "2/2 - 0s - 15ms/step - accuracy: 0.8421 - loss: 0.3757\n",
            "Epoch 405/500\n",
            "2/2 - 0s - 16ms/step - accuracy: 0.8421 - loss: 0.3747\n",
            "Epoch 406/500\n",
            "2/2 - 0s - 16ms/step - accuracy: 0.8421 - loss: 0.3738\n",
            "Epoch 407/500\n",
            "2/2 - 0s - 31ms/step - accuracy: 0.8421 - loss: 0.3729\n",
            "Epoch 408/500\n",
            "2/2 - 0s - 23ms/step - accuracy: 0.8421 - loss: 0.3719\n",
            "Epoch 409/500\n",
            "2/2 - 0s - 28ms/step - accuracy: 0.8421 - loss: 0.3712\n",
            "Epoch 410/500\n",
            "2/2 - 0s - 17ms/step - accuracy: 0.8421 - loss: 0.3704\n",
            "Epoch 411/500\n",
            "2/2 - 0s - 16ms/step - accuracy: 0.8421 - loss: 0.3692\n",
            "Epoch 412/500\n",
            "2/2 - 0s - 17ms/step - accuracy: 0.8421 - loss: 0.3681\n",
            "Epoch 413/500\n",
            "2/2 - 0s - 16ms/step - accuracy: 0.8421 - loss: 0.3673\n",
            "Epoch 414/500\n",
            "2/2 - 0s - 17ms/step - accuracy: 0.8421 - loss: 0.3664\n",
            "Epoch 415/500\n",
            "2/2 - 0s - 29ms/step - accuracy: 0.8421 - loss: 0.3651\n",
            "Epoch 416/500\n",
            "2/2 - 0s - 16ms/step - accuracy: 0.8421 - loss: 0.3644\n",
            "Epoch 417/500\n",
            "2/2 - 0s - 20ms/step - accuracy: 0.8421 - loss: 0.3633\n",
            "Epoch 418/500\n",
            "2/2 - 0s - 19ms/step - accuracy: 0.8421 - loss: 0.3626\n",
            "Epoch 419/500\n",
            "2/2 - 0s - 19ms/step - accuracy: 0.8421 - loss: 0.3615\n",
            "Epoch 420/500\n",
            "2/2 - 0s - 30ms/step - accuracy: 0.8421 - loss: 0.3603\n",
            "Epoch 421/500\n",
            "2/2 - 0s - 27ms/step - accuracy: 0.8421 - loss: 0.3595\n",
            "Epoch 422/500\n",
            "2/2 - 0s - 20ms/step - accuracy: 0.8421 - loss: 0.3583\n",
            "Epoch 423/500\n",
            "2/2 - 0s - 20ms/step - accuracy: 0.8421 - loss: 0.3575\n",
            "Epoch 424/500\n",
            "2/2 - 0s - 30ms/step - accuracy: 0.8421 - loss: 0.3565\n",
            "Epoch 425/500\n",
            "2/2 - 0s - 27ms/step - accuracy: 0.8421 - loss: 0.3558\n",
            "Epoch 426/500\n",
            "2/2 - 0s - 17ms/step - accuracy: 0.8421 - loss: 0.3547\n",
            "Epoch 427/500\n",
            "2/2 - 0s - 16ms/step - accuracy: 0.8421 - loss: 0.3536\n",
            "Epoch 428/500\n",
            "2/2 - 0s - 16ms/step - accuracy: 0.8421 - loss: 0.3526\n",
            "Epoch 429/500\n",
            "2/2 - 0s - 18ms/step - accuracy: 0.8421 - loss: 0.3518\n",
            "Epoch 430/500\n",
            "2/2 - 0s - 19ms/step - accuracy: 0.8421 - loss: 0.3510\n",
            "Epoch 431/500\n",
            "2/2 - 0s - 16ms/step - accuracy: 0.8421 - loss: 0.3499\n",
            "Epoch 432/500\n",
            "2/2 - 0s - 16ms/step - accuracy: 0.8421 - loss: 0.3489\n",
            "Epoch 433/500\n",
            "2/2 - 0s - 15ms/step - accuracy: 0.8421 - loss: 0.3484\n",
            "Epoch 434/500\n",
            "2/2 - 0s - 16ms/step - accuracy: 0.8421 - loss: 0.3479\n",
            "Epoch 435/500\n",
            "2/2 - 0s - 29ms/step - accuracy: 0.8421 - loss: 0.3474\n",
            "Epoch 436/500\n",
            "2/2 - 0s - 17ms/step - accuracy: 0.8421 - loss: 0.3470\n",
            "Epoch 437/500\n",
            "2/2 - 0s - 16ms/step - accuracy: 0.8421 - loss: 0.3464\n",
            "Epoch 438/500\n",
            "2/2 - 0s - 16ms/step - accuracy: 0.8421 - loss: 0.3456\n",
            "Epoch 439/500\n",
            "2/2 - 0s - 21ms/step - accuracy: 0.8421 - loss: 0.3449\n",
            "Epoch 440/500\n",
            "2/2 - 0s - 20ms/step - accuracy: 0.8421 - loss: 0.3442\n",
            "Epoch 441/500\n",
            "2/2 - 0s - 29ms/step - accuracy: 0.8421 - loss: 0.3435\n",
            "Epoch 442/500\n",
            "2/2 - 0s - 31ms/step - accuracy: 0.8158 - loss: 0.3430\n",
            "Epoch 443/500\n",
            "2/2 - 0s - 20ms/step - accuracy: 0.8421 - loss: 0.3420\n",
            "Epoch 444/500\n",
            "2/2 - 0s - 17ms/step - accuracy: 0.8421 - loss: 0.3416\n",
            "Epoch 445/500\n",
            "2/2 - 0s - 17ms/step - accuracy: 0.8421 - loss: 0.3412\n",
            "Epoch 446/500\n",
            "2/2 - 0s - 17ms/step - accuracy: 0.8421 - loss: 0.3403\n",
            "Epoch 447/500\n",
            "2/2 - 0s - 16ms/step - accuracy: 0.8421 - loss: 0.3393\n",
            "Epoch 448/500\n",
            "2/2 - 0s - 17ms/step - accuracy: 0.8421 - loss: 0.3392\n",
            "Epoch 449/500\n",
            "2/2 - 0s - 28ms/step - accuracy: 0.8421 - loss: 0.3382\n",
            "Epoch 450/500\n",
            "2/2 - 0s - 18ms/step - accuracy: 0.8421 - loss: 0.3378\n",
            "Epoch 451/500\n",
            "2/2 - 0s - 16ms/step - accuracy: 0.8421 - loss: 0.3372\n",
            "Epoch 452/500\n",
            "2/2 - 0s - 20ms/step - accuracy: 0.8421 - loss: 0.3365\n",
            "Epoch 453/500\n",
            "2/2 - 0s - 27ms/step - accuracy: 0.8421 - loss: 0.3360\n",
            "Epoch 454/500\n",
            "2/2 - 0s - 30ms/step - accuracy: 0.8421 - loss: 0.3353\n",
            "Epoch 455/500\n",
            "2/2 - 0s - 16ms/step - accuracy: 0.8421 - loss: 0.3350\n",
            "Epoch 456/500\n",
            "2/2 - 0s - 16ms/step - accuracy: 0.8421 - loss: 0.3344\n",
            "Epoch 457/500\n",
            "2/2 - 0s - 16ms/step - accuracy: 0.8421 - loss: 0.3337\n",
            "Epoch 458/500\n",
            "2/2 - 0s - 16ms/step - accuracy: 0.8421 - loss: 0.3334\n",
            "Epoch 459/500\n",
            "2/2 - 0s - 16ms/step - accuracy: 0.8421 - loss: 0.3326\n",
            "Epoch 460/500\n",
            "2/2 - 0s - 29ms/step - accuracy: 0.8421 - loss: 0.3321\n",
            "Epoch 461/500\n",
            "2/2 - 0s - 21ms/step - accuracy: 0.8421 - loss: 0.3315\n",
            "Epoch 462/500\n",
            "2/2 - 0s - 28ms/step - accuracy: 0.8421 - loss: 0.3310\n",
            "Epoch 463/500\n",
            "2/2 - 0s - 20ms/step - accuracy: 0.8421 - loss: 0.3302\n",
            "Epoch 464/500\n",
            "2/2 - 0s - 27ms/step - accuracy: 0.8421 - loss: 0.3296\n",
            "Epoch 465/500\n",
            "2/2 - 0s - 17ms/step - accuracy: 0.8421 - loss: 0.3289\n",
            "Epoch 466/500\n",
            "2/2 - 0s - 17ms/step - accuracy: 0.8421 - loss: 0.3284\n",
            "Epoch 467/500\n",
            "2/2 - 0s - 29ms/step - accuracy: 0.8421 - loss: 0.3280\n",
            "Epoch 468/500\n",
            "2/2 - 0s - 17ms/step - accuracy: 0.8421 - loss: 0.3276\n",
            "Epoch 469/500\n",
            "2/2 - 0s - 18ms/step - accuracy: 0.8421 - loss: 0.3270\n",
            "Epoch 470/500\n",
            "2/2 - 0s - 28ms/step - accuracy: 0.8421 - loss: 0.3264\n",
            "Epoch 471/500\n",
            "2/2 - 0s - 30ms/step - accuracy: 0.8421 - loss: 0.3260\n",
            "Epoch 472/500\n",
            "2/2 - 0s - 28ms/step - accuracy: 0.8421 - loss: 0.3254\n",
            "Epoch 473/500\n",
            "2/2 - 0s - 22ms/step - accuracy: 0.8421 - loss: 0.3248\n",
            "Epoch 474/500\n",
            "2/2 - 0s - 18ms/step - accuracy: 0.8421 - loss: 0.3244\n",
            "Epoch 475/500\n",
            "2/2 - 0s - 29ms/step - accuracy: 0.8421 - loss: 0.3241\n",
            "Epoch 476/500\n",
            "2/2 - 0s - 17ms/step - accuracy: 0.8421 - loss: 0.3237\n",
            "Epoch 477/500\n",
            "2/2 - 0s - 16ms/step - accuracy: 0.8421 - loss: 0.3231\n",
            "Epoch 478/500\n",
            "2/2 - 0s - 16ms/step - accuracy: 0.8421 - loss: 0.3229\n",
            "Epoch 479/500\n",
            "2/2 - 0s - 30ms/step - accuracy: 0.8421 - loss: 0.3231\n",
            "Epoch 480/500\n",
            "2/2 - 0s - 30ms/step - accuracy: 0.8421 - loss: 0.3224\n",
            "Epoch 481/500\n",
            "2/2 - 0s - 20ms/step - accuracy: 0.8421 - loss: 0.3220\n",
            "Epoch 482/500\n",
            "2/2 - 0s - 21ms/step - accuracy: 0.8421 - loss: 0.3216\n",
            "Epoch 483/500\n",
            "2/2 - 0s - 22ms/step - accuracy: 0.8421 - loss: 0.3214\n",
            "Epoch 484/500\n",
            "2/2 - 0s - 26ms/step - accuracy: 0.8421 - loss: 0.3208\n",
            "Epoch 485/500\n",
            "2/2 - 0s - 17ms/step - accuracy: 0.8421 - loss: 0.3203\n",
            "Epoch 486/500\n",
            "2/2 - 0s - 17ms/step - accuracy: 0.8421 - loss: 0.3198\n",
            "Epoch 487/500\n",
            "2/2 - 0s - 17ms/step - accuracy: 0.8421 - loss: 0.3193\n",
            "Epoch 488/500\n",
            "2/2 - 0s - 17ms/step - accuracy: 0.8421 - loss: 0.3189\n",
            "Epoch 489/500\n",
            "2/2 - 0s - 16ms/step - accuracy: 0.8421 - loss: 0.3185\n",
            "Epoch 490/500\n",
            "2/2 - 0s - 17ms/step - accuracy: 0.8421 - loss: 0.3181\n",
            "Epoch 491/500\n",
            "2/2 - 0s - 16ms/step - accuracy: 0.8421 - loss: 0.3177\n",
            "Epoch 492/500\n",
            "2/2 - 0s - 17ms/step - accuracy: 0.8421 - loss: 0.3172\n",
            "Epoch 493/500\n",
            "2/2 - 0s - 16ms/step - accuracy: 0.8421 - loss: 0.3171\n",
            "Epoch 494/500\n",
            "2/2 - 0s - 30ms/step - accuracy: 0.8421 - loss: 0.3167\n",
            "Epoch 495/500\n",
            "2/2 - 0s - 29ms/step - accuracy: 0.8421 - loss: 0.3163\n",
            "Epoch 496/500\n",
            "2/2 - 0s - 16ms/step - accuracy: 0.8421 - loss: 0.3159\n",
            "Epoch 497/500\n",
            "2/2 - 0s - 17ms/step - accuracy: 0.8421 - loss: 0.3156\n",
            "Epoch 498/500\n",
            "2/2 - 0s - 17ms/step - accuracy: 0.8421 - loss: 0.3152\n",
            "Epoch 499/500\n",
            "2/2 - 0s - 15ms/step - accuracy: 0.8421 - loss: 0.3148\n",
            "Epoch 500/500\n",
            "2/2 - 0s - 30ms/step - accuracy: 0.8421 - loss: 0.3143\n"
          ]
        },
        {
          "output_type": "execute_result",
          "data": {
            "text/plain": [
              "<keras.src.callbacks.history.History at 0x794cf2838580>"
            ]
          },
          "metadata": {},
          "execution_count": 46
        }
      ]
    },
    {
      "cell_type": "code",
      "source": [
        "# 테스트 단어를 정수 인코딩한다.\n",
        "test_text = 'Wait'\n",
        "encoded = tokenizer.texts_to_sequences([test_text])[0]\n",
        "encoded = np.array(encoded)\n",
        "\n",
        "# 신경망의 예측값을 출력해본다.\n",
        "onehot_output = model.predict(encoded)\n",
        "print('onehot_output=', onehot_output)\n",
        "\n",
        "# 가장 높은 출력을 내는 유닛을 찾는다.\n",
        "output = np.argmax(onehot_output)\n",
        "print('output=', output)\n",
        "\n",
        "# 출력층의 유닛 번호를 단어로 바꾼다.\n",
        "print(test_text, \"=>\", end=\" \")\n",
        "for word, index in tokenizer.word_index.items():\n",
        "\tif index == output:\n",
        "\t\tprint(word)"
      ],
      "metadata": {
        "colab": {
          "base_uri": "https://localhost:8080/"
        },
        "id": "XEZ8Ik7p2jPS",
        "outputId": "7f7df8ad-28f4-436e-8333-f529f357a060"
      },
      "execution_count": 47,
      "outputs": [
        {
          "output_type": "stream",
          "name": "stdout",
          "text": [
            "\u001b[1m1/1\u001b[0m \u001b[32m━━━━━━━━━━━━━━━━━━━━\u001b[0m\u001b[37m\u001b[0m \u001b[1m0s\u001b[0m 329ms/step\n",
            "onehot_output= [[2.2474667e-05 1.1312323e-02 1.1021288e-04 9.1032003e-04 1.6449523e-04\n",
            "  9.5816731e-01 5.6568976e-03 2.0303687e-05 1.7501829e-03 7.7932168e-07\n",
            "  1.8100966e-04 7.9900092e-06 2.4521512e-05 3.5188457e-06 7.9366095e-05\n",
            "  9.4820345e-05 3.8910218e-07 1.4609790e-04 2.6309335e-06 4.0175678e-06\n",
            "  1.9916693e-05 5.1592173e-07 1.7810387e-05 5.5817327e-07 4.9645911e-05\n",
            "  5.4424368e-07 3.9717066e-05 7.8925819e-07 1.9471178e-02 1.5532535e-03\n",
            "  1.8545279e-04 9.1996856e-07]]\n",
            "output= 5\n",
            "Wait => till\n"
          ]
        }
      ]
    },
    {
      "cell_type": "code",
      "source": [
        "import numpy as np\n",
        "\n",
        "import tensorflow as tf\n",
        "from tensorflow import keras\n",
        "\n",
        "import matplotlib.pyplot as plt"
      ],
      "metadata": {
        "id": "mF6MyccV4brZ"
      },
      "execution_count": 48,
      "outputs": []
    },
    {
      "cell_type": "code",
      "source": [
        "imdb = keras.datasets.imdb\n",
        "(x_train, y_train), (x_test, y_test) = imdb.load_data(num_words=10000)\n",
        "\n",
        "print(x_train[0])"
      ],
      "metadata": {
        "colab": {
          "base_uri": "https://localhost:8080/"
        },
        "id": "LHvkxg0t4tzB",
        "outputId": "d24ed665-a1d5-4894-d3e7-3a899f973c09"
      },
      "execution_count": 49,
      "outputs": [
        {
          "output_type": "stream",
          "name": "stdout",
          "text": [
            "Downloading data from https://storage.googleapis.com/tensorflow/tf-keras-datasets/imdb.npz\n",
            "\u001b[1m17464789/17464789\u001b[0m \u001b[32m━━━━━━━━━━━━━━━━━━━━\u001b[0m\u001b[37m\u001b[0m \u001b[1m1s\u001b[0m 0us/step\n",
            "[1, 14, 22, 16, 43, 530, 973, 1622, 1385, 65, 458, 4468, 66, 3941, 4, 173, 36, 256, 5, 25, 100, 43, 838, 112, 50, 670, 2, 9, 35, 480, 284, 5, 150, 4, 172, 112, 167, 2, 336, 385, 39, 4, 172, 4536, 1111, 17, 546, 38, 13, 447, 4, 192, 50, 16, 6, 147, 2025, 19, 14, 22, 4, 1920, 4613, 469, 4, 22, 71, 87, 12, 16, 43, 530, 38, 76, 15, 13, 1247, 4, 22, 17, 515, 17, 12, 16, 626, 18, 2, 5, 62, 386, 12, 8, 316, 8, 106, 5, 4, 2223, 5244, 16, 480, 66, 3785, 33, 4, 130, 12, 16, 38, 619, 5, 25, 124, 51, 36, 135, 48, 25, 1415, 33, 6, 22, 12, 215, 28, 77, 52, 5, 14, 407, 16, 82, 2, 8, 4, 107, 117, 5952, 15, 256, 4, 2, 7, 3766, 5, 723, 36, 71, 43, 530, 476, 26, 400, 317, 46, 7, 4, 2, 1029, 13, 104, 88, 4, 381, 15, 297, 98, 32, 2071, 56, 26, 141, 6, 194, 7486, 18, 4, 226, 22, 21, 134, 476, 26, 480, 5, 144, 30, 5535, 18, 51, 36, 28, 224, 92, 25, 104, 4, 226, 65, 16, 38, 1334, 88, 12, 16, 283, 5, 16, 4472, 113, 103, 32, 15, 16, 5345, 19, 178, 32]\n"
          ]
        }
      ]
    },
    {
      "cell_type": "code",
      "source": [
        "# 단어 ->정수 인덱스 딕셔너리\n",
        "word_to_index = imdb.get_word_index()\n",
        "\n",
        "# 처음 몇 개의 인덱스는 특수 용도로 사용된다.\n",
        "word_to_index = {k:(v+3) for k,v in word_to_index.items()}\n",
        "word_to_index[\"<PAD>\"] = 0\t\t# 문장을 채우는 기호\n",
        "word_to_index[\"<START>\"] = 1\t\t# 시작을 표시\n",
        "word_to_index[\"<UNK>\"] = 2  \t\t# 알려지지 않은 토큰\n",
        "word_to_index[\"<UNUSED>\"] = 3\n",
        "\n",
        "index_to_word = dict([(value, key) for (key, value) in word_to_index.items()])\n",
        "\n",
        "print(' '.join([index_to_word[index] for index in x_train[0]]))"
      ],
      "metadata": {
        "colab": {
          "base_uri": "https://localhost:8080/"
        },
        "id": "D2RbBlML4yXk",
        "outputId": "71882d4c-8ac8-4aa4-d7a1-859dadd5fcb8"
      },
      "execution_count": 50,
      "outputs": [
        {
          "output_type": "stream",
          "name": "stdout",
          "text": [
            "Downloading data from https://storage.googleapis.com/tensorflow/tf-keras-datasets/imdb_word_index.json\n",
            "\u001b[1m1641221/1641221\u001b[0m \u001b[32m━━━━━━━━━━━━━━━━━━━━\u001b[0m\u001b[37m\u001b[0m \u001b[1m1s\u001b[0m 0us/step\n",
            "<START> this film was just brilliant casting location scenery story direction everyone's really suited the part they played and you could just imagine being there robert <UNK> is an amazing actor and now the same being director <UNK> father came from the same scottish island as myself so i loved the fact there was a real connection with this film the witty remarks throughout the film were great it was just brilliant so much that i bought the film as soon as it was released for <UNK> and would recommend it to everyone to watch and the fly fishing was amazing really cried at the end it was so sad and you know what they say if you cry at a film it must have been good and this definitely was also <UNK> to the two little boy's that played the <UNK> of norman and paul they were just brilliant children are often left out of the <UNK> list i think because the stars that play them all grown up are such a big profile for the whole film but these children are amazing and should be praised for what they have done don't you think the whole story was so lovely because it was true and was someone's life after all that was shared with us all\n"
          ]
        }
      ]
    },
    {
      "cell_type": "code",
      "source": [
        "from tensorflow.keras.preprocessing.sequence import pad_sequences\n",
        "from tensorflow.keras.models import Sequential\n",
        "from tensorflow.keras.layers import *\n",
        "\n",
        "x_train = pad_sequences(x_train, maxlen=100)\n",
        "x_test = pad_sequences(x_test, maxlen=100)\n",
        "\n",
        "vocab_size = 10000"
      ],
      "metadata": {
        "id": "LmZncmWI46Jr"
      },
      "execution_count": 51,
      "outputs": []
    },
    {
      "cell_type": "code",
      "source": [
        "model = Sequential()\n",
        "model.add(Embedding(vocab_size, 64,\n",
        "                    input_length=100))\n",
        "model.add(Flatten())\n",
        "model.add(Dense(64, activation='relu'))\n",
        "model.add(Dropout(0.5))\n",
        "model.add(Dense(1, activation='sigmoid'))\n",
        "\n",
        "model.summary()\n"
      ],
      "metadata": {
        "colab": {
          "base_uri": "https://localhost:8080/",
          "height": 306
        },
        "id": "ZIq7n37K5AMl",
        "outputId": "dc1dd862-c57c-40c5-ea27-4488c4d47b45"
      },
      "execution_count": 52,
      "outputs": [
        {
          "output_type": "display_data",
          "data": {
            "text/plain": [
              "\u001b[1mModel: \"sequential_5\"\u001b[0m\n"
            ],
            "text/html": [
              "<pre style=\"white-space:pre;overflow-x:auto;line-height:normal;font-family:Menlo,'DejaVu Sans Mono',consolas,'Courier New',monospace\"><span style=\"font-weight: bold\">Model: \"sequential_5\"</span>\n",
              "</pre>\n"
            ]
          },
          "metadata": {}
        },
        {
          "output_type": "display_data",
          "data": {
            "text/plain": [
              "┏━━━━━━━━━━━━━━━━━━━━━━━━━━━━━━━━━━━━━━┳━━━━━━━━━━━━━━━━━━━━━━━━━━━━━┳━━━━━━━━━━━━━━━━━┓\n",
              "┃\u001b[1m \u001b[0m\u001b[1mLayer (type)                        \u001b[0m\u001b[1m \u001b[0m┃\u001b[1m \u001b[0m\u001b[1mOutput Shape               \u001b[0m\u001b[1m \u001b[0m┃\u001b[1m \u001b[0m\u001b[1m        Param #\u001b[0m\u001b[1m \u001b[0m┃\n",
              "┡━━━━━━━━━━━━━━━━━━━━━━━━━━━━━━━━━━━━━━╇━━━━━━━━━━━━━━━━━━━━━━━━━━━━━╇━━━━━━━━━━━━━━━━━┩\n",
              "│ embedding_5 (\u001b[38;5;33mEmbedding\u001b[0m)              │ ?                           │     \u001b[38;5;34m0\u001b[0m (unbuilt) │\n",
              "├──────────────────────────────────────┼─────────────────────────────┼─────────────────┤\n",
              "│ flatten_1 (\u001b[38;5;33mFlatten\u001b[0m)                  │ ?                           │     \u001b[38;5;34m0\u001b[0m (unbuilt) │\n",
              "├──────────────────────────────────────┼─────────────────────────────┼─────────────────┤\n",
              "│ dense_3 (\u001b[38;5;33mDense\u001b[0m)                      │ ?                           │     \u001b[38;5;34m0\u001b[0m (unbuilt) │\n",
              "├──────────────────────────────────────┼─────────────────────────────┼─────────────────┤\n",
              "│ dropout (\u001b[38;5;33mDropout\u001b[0m)                    │ ?                           │     \u001b[38;5;34m0\u001b[0m (unbuilt) │\n",
              "├──────────────────────────────────────┼─────────────────────────────┼─────────────────┤\n",
              "│ dense_4 (\u001b[38;5;33mDense\u001b[0m)                      │ ?                           │     \u001b[38;5;34m0\u001b[0m (unbuilt) │\n",
              "└──────────────────────────────────────┴─────────────────────────────┴─────────────────┘\n"
            ],
            "text/html": [
              "<pre style=\"white-space:pre;overflow-x:auto;line-height:normal;font-family:Menlo,'DejaVu Sans Mono',consolas,'Courier New',monospace\">┏━━━━━━━━━━━━━━━━━━━━━━━━━━━━━━━━━━━━━━┳━━━━━━━━━━━━━━━━━━━━━━━━━━━━━┳━━━━━━━━━━━━━━━━━┓\n",
              "┃<span style=\"font-weight: bold\"> Layer (type)                         </span>┃<span style=\"font-weight: bold\"> Output Shape                </span>┃<span style=\"font-weight: bold\">         Param # </span>┃\n",
              "┡━━━━━━━━━━━━━━━━━━━━━━━━━━━━━━━━━━━━━━╇━━━━━━━━━━━━━━━━━━━━━━━━━━━━━╇━━━━━━━━━━━━━━━━━┩\n",
              "│ embedding_5 (<span style=\"color: #0087ff; text-decoration-color: #0087ff\">Embedding</span>)              │ ?                           │     <span style=\"color: #00af00; text-decoration-color: #00af00\">0</span> (unbuilt) │\n",
              "├──────────────────────────────────────┼─────────────────────────────┼─────────────────┤\n",
              "│ flatten_1 (<span style=\"color: #0087ff; text-decoration-color: #0087ff\">Flatten</span>)                  │ ?                           │     <span style=\"color: #00af00; text-decoration-color: #00af00\">0</span> (unbuilt) │\n",
              "├──────────────────────────────────────┼─────────────────────────────┼─────────────────┤\n",
              "│ dense_3 (<span style=\"color: #0087ff; text-decoration-color: #0087ff\">Dense</span>)                      │ ?                           │     <span style=\"color: #00af00; text-decoration-color: #00af00\">0</span> (unbuilt) │\n",
              "├──────────────────────────────────────┼─────────────────────────────┼─────────────────┤\n",
              "│ dropout (<span style=\"color: #0087ff; text-decoration-color: #0087ff\">Dropout</span>)                    │ ?                           │     <span style=\"color: #00af00; text-decoration-color: #00af00\">0</span> (unbuilt) │\n",
              "├──────────────────────────────────────┼─────────────────────────────┼─────────────────┤\n",
              "│ dense_4 (<span style=\"color: #0087ff; text-decoration-color: #0087ff\">Dense</span>)                      │ ?                           │     <span style=\"color: #00af00; text-decoration-color: #00af00\">0</span> (unbuilt) │\n",
              "└──────────────────────────────────────┴─────────────────────────────┴─────────────────┘\n",
              "</pre>\n"
            ]
          },
          "metadata": {}
        },
        {
          "output_type": "display_data",
          "data": {
            "text/plain": [
              "\u001b[1m Total params: \u001b[0m\u001b[38;5;34m0\u001b[0m (0.00 B)\n"
            ],
            "text/html": [
              "<pre style=\"white-space:pre;overflow-x:auto;line-height:normal;font-family:Menlo,'DejaVu Sans Mono',consolas,'Courier New',monospace\"><span style=\"font-weight: bold\"> Total params: </span><span style=\"color: #00af00; text-decoration-color: #00af00\">0</span> (0.00 B)\n",
              "</pre>\n"
            ]
          },
          "metadata": {}
        },
        {
          "output_type": "display_data",
          "data": {
            "text/plain": [
              "\u001b[1m Trainable params: \u001b[0m\u001b[38;5;34m0\u001b[0m (0.00 B)\n"
            ],
            "text/html": [
              "<pre style=\"white-space:pre;overflow-x:auto;line-height:normal;font-family:Menlo,'DejaVu Sans Mono',consolas,'Courier New',monospace\"><span style=\"font-weight: bold\"> Trainable params: </span><span style=\"color: #00af00; text-decoration-color: #00af00\">0</span> (0.00 B)\n",
              "</pre>\n"
            ]
          },
          "metadata": {}
        },
        {
          "output_type": "display_data",
          "data": {
            "text/plain": [
              "\u001b[1m Non-trainable params: \u001b[0m\u001b[38;5;34m0\u001b[0m (0.00 B)\n"
            ],
            "text/html": [
              "<pre style=\"white-space:pre;overflow-x:auto;line-height:normal;font-family:Menlo,'DejaVu Sans Mono',consolas,'Courier New',monospace\"><span style=\"font-weight: bold\"> Non-trainable params: </span><span style=\"color: #00af00; text-decoration-color: #00af00\">0</span> (0.00 B)\n",
              "</pre>\n"
            ]
          },
          "metadata": {}
        }
      ]
    },
    {
      "cell_type": "code",
      "source": [
        "model.compile(loss='binary_crossentropy', optimizer='adam',\n",
        "              metrics=['accuracy'])\n",
        "history = model.fit(x_train, y_train,\n",
        "          batch_size=64, epochs=20, verbose=1,\n",
        "          validation_data=(x_test, y_test))"
      ],
      "metadata": {
        "colab": {
          "base_uri": "https://localhost:8080/"
        },
        "id": "GpLe7hWj5NHX",
        "outputId": "2fef0be3-a7a9-4119-bb84-2aa7ea9a737c"
      },
      "execution_count": 53,
      "outputs": [
        {
          "output_type": "stream",
          "name": "stdout",
          "text": [
            "Epoch 1/20\n",
            "\u001b[1m391/391\u001b[0m \u001b[32m━━━━━━━━━━━━━━━━━━━━\u001b[0m\u001b[37m\u001b[0m \u001b[1m11s\u001b[0m 24ms/step - accuracy: 0.6682 - loss: 0.5744 - val_accuracy: 0.8503 - val_loss: 0.3383\n",
            "Epoch 2/20\n",
            "\u001b[1m391/391\u001b[0m \u001b[32m━━━━━━━━━━━━━━━━━━━━\u001b[0m\u001b[37m\u001b[0m \u001b[1m10s\u001b[0m 22ms/step - accuracy: 0.9315 - loss: 0.1878 - val_accuracy: 0.8339 - val_loss: 0.4027\n",
            "Epoch 3/20\n",
            "\u001b[1m391/391\u001b[0m \u001b[32m━━━━━━━━━━━━━━━━━━━━\u001b[0m\u001b[37m\u001b[0m \u001b[1m9s\u001b[0m 19ms/step - accuracy: 0.9928 - loss: 0.0362 - val_accuracy: 0.8357 - val_loss: 0.5134\n",
            "Epoch 4/20\n",
            "\u001b[1m391/391\u001b[0m \u001b[32m━━━━━━━━━━━━━━━━━━━━\u001b[0m\u001b[37m\u001b[0m \u001b[1m10s\u001b[0m 27ms/step - accuracy: 0.9990 - loss: 0.0066 - val_accuracy: 0.8338 - val_loss: 0.5982\n",
            "Epoch 5/20\n",
            "\u001b[1m391/391\u001b[0m \u001b[32m━━━━━━━━━━━━━━━━━━━━\u001b[0m\u001b[37m\u001b[0m \u001b[1m9s\u001b[0m 24ms/step - accuracy: 0.9995 - loss: 0.0029 - val_accuracy: 0.8381 - val_loss: 0.6519\n",
            "Epoch 6/20\n",
            "\u001b[1m391/391\u001b[0m \u001b[32m━━━━━━━━━━━━━━━━━━━━\u001b[0m\u001b[37m\u001b[0m \u001b[1m8s\u001b[0m 19ms/step - accuracy: 0.9999 - loss: 0.0011 - val_accuracy: 0.8367 - val_loss: 0.6937\n",
            "Epoch 7/20\n",
            "\u001b[1m391/391\u001b[0m \u001b[32m━━━━━━━━━━━━━━━━━━━━\u001b[0m\u001b[37m\u001b[0m \u001b[1m11s\u001b[0m 22ms/step - accuracy: 0.9999 - loss: 9.2927e-04 - val_accuracy: 0.8368 - val_loss: 0.7331\n",
            "Epoch 8/20\n",
            "\u001b[1m391/391\u001b[0m \u001b[32m━━━━━━━━━━━━━━━━━━━━\u001b[0m\u001b[37m\u001b[0m \u001b[1m10s\u001b[0m 25ms/step - accuracy: 1.0000 - loss: 4.1379e-04 - val_accuracy: 0.8385 - val_loss: 0.7633\n",
            "Epoch 9/20\n",
            "\u001b[1m391/391\u001b[0m \u001b[32m━━━━━━━━━━━━━━━━━━━━\u001b[0m\u001b[37m\u001b[0m \u001b[1m8s\u001b[0m 19ms/step - accuracy: 1.0000 - loss: 2.8082e-04 - val_accuracy: 0.8394 - val_loss: 0.7911\n",
            "Epoch 10/20\n",
            "\u001b[1m391/391\u001b[0m \u001b[32m━━━━━━━━━━━━━━━━━━━━\u001b[0m\u001b[37m\u001b[0m \u001b[1m9s\u001b[0m 23ms/step - accuracy: 1.0000 - loss: 1.8943e-04 - val_accuracy: 0.8394 - val_loss: 0.8152\n",
            "Epoch 11/20\n",
            "\u001b[1m391/391\u001b[0m \u001b[32m━━━━━━━━━━━━━━━━━━━━\u001b[0m\u001b[37m\u001b[0m \u001b[1m10s\u001b[0m 23ms/step - accuracy: 1.0000 - loss: 1.4594e-04 - val_accuracy: 0.8395 - val_loss: 0.8382\n",
            "Epoch 12/20\n",
            "\u001b[1m391/391\u001b[0m \u001b[32m━━━━━━━━━━━━━━━━━━━━\u001b[0m\u001b[37m\u001b[0m \u001b[1m9s\u001b[0m 19ms/step - accuracy: 1.0000 - loss: 1.4685e-04 - val_accuracy: 0.8388 - val_loss: 0.8571\n",
            "Epoch 13/20\n",
            "\u001b[1m391/391\u001b[0m \u001b[32m━━━━━━━━━━━━━━━━━━━━\u001b[0m\u001b[37m\u001b[0m \u001b[1m9s\u001b[0m 23ms/step - accuracy: 1.0000 - loss: 1.0162e-04 - val_accuracy: 0.8390 - val_loss: 0.8818\n",
            "Epoch 14/20\n",
            "\u001b[1m391/391\u001b[0m \u001b[32m━━━━━━━━━━━━━━━━━━━━\u001b[0m\u001b[37m\u001b[0m \u001b[1m9s\u001b[0m 23ms/step - accuracy: 0.9961 - loss: 0.0115 - val_accuracy: 0.8116 - val_loss: 0.9616\n",
            "Epoch 15/20\n",
            "\u001b[1m391/391\u001b[0m \u001b[32m━━━━━━━━━━━━━━━━━━━━\u001b[0m\u001b[37m\u001b[0m \u001b[1m9s\u001b[0m 19ms/step - accuracy: 0.9946 - loss: 0.0142 - val_accuracy: 0.8210 - val_loss: 0.9967\n",
            "Epoch 16/20\n",
            "\u001b[1m391/391\u001b[0m \u001b[32m━━━━━━━━━━━━━━━━━━━━\u001b[0m\u001b[37m\u001b[0m \u001b[1m12s\u001b[0m 24ms/step - accuracy: 0.9987 - loss: 0.0040 - val_accuracy: 0.8227 - val_loss: 1.0776\n",
            "Epoch 17/20\n",
            "\u001b[1m391/391\u001b[0m \u001b[32m━━━━━━━━━━━━━━━━━━━━\u001b[0m\u001b[37m\u001b[0m \u001b[1m9s\u001b[0m 23ms/step - accuracy: 0.9998 - loss: 7.8981e-04 - val_accuracy: 0.8211 - val_loss: 1.1301\n",
            "Epoch 18/20\n",
            "\u001b[1m391/391\u001b[0m \u001b[32m━━━━━━━━━━━━━━━━━━━━\u001b[0m\u001b[37m\u001b[0m \u001b[1m7s\u001b[0m 19ms/step - accuracy: 0.9999 - loss: 4.4103e-04 - val_accuracy: 0.8214 - val_loss: 1.1937\n",
            "Epoch 19/20\n",
            "\u001b[1m391/391\u001b[0m \u001b[32m━━━━━━━━━━━━━━━━━━━━\u001b[0m\u001b[37m\u001b[0m \u001b[1m9s\u001b[0m 23ms/step - accuracy: 1.0000 - loss: 2.3349e-04 - val_accuracy: 0.8217 - val_loss: 1.2249\n",
            "Epoch 20/20\n",
            "\u001b[1m391/391\u001b[0m \u001b[32m━━━━━━━━━━━━━━━━━━━━\u001b[0m\u001b[37m\u001b[0m \u001b[1m11s\u001b[0m 26ms/step - accuracy: 1.0000 - loss: 1.0604e-04 - val_accuracy: 0.8226 - val_loss: 1.2577\n"
          ]
        }
      ]
    },
    {
      "cell_type": "code",
      "source": [
        "results = model.evaluate(x_test, y_test, verbose=2)\n",
        "print(results)"
      ],
      "metadata": {
        "colab": {
          "base_uri": "https://localhost:8080/"
        },
        "id": "j_AvmMdk5YdW",
        "outputId": "9c84ca2c-f6a4-4cd1-8b33-b4d53e521702"
      },
      "execution_count": 54,
      "outputs": [
        {
          "output_type": "stream",
          "name": "stdout",
          "text": [
            "782/782 - 4s - 5ms/step - accuracy: 0.8226 - loss: 1.2577\n",
            "[1.2577333450317383, 0.8226400017738342]\n"
          ]
        }
      ]
    },
    {
      "cell_type": "code",
      "source": [
        "review = \"\"\"What can I say about this movie that was already said? It is my\n",
        "favorite time travel sci-fi, adventure epic comedy in the 80's and I love\n",
        "this movie to death! When I saw this movie I was thrown out by its theme. An\n",
        "excellent sci-fi, adventure epic, I LOVE the 80s. It's simple the greatest time\n",
        "travel movie ever happened in the history of world cinema. I love this movie to\n",
        "death, I love, LOVE, love it!\"\"\""
      ],
      "metadata": {
        "id": "TMMi_c_m6OfX"
      },
      "execution_count": 56,
      "outputs": []
    },
    {
      "cell_type": "code",
      "source": [
        "import re\n",
        "review = re.sub(\"[^0-9a-zA-Z ]\", \"\", review).lower()\n",
        "\n",
        "review_encoding = []\n",
        "# 리뷰의 각 단어 대하여 반복한다.\n",
        "for w in review.split():\n",
        "\t\tindex = word_to_index.get(w, 2)\t# 딕셔너리에 없으면 2 반환\n",
        "\t\tif index <= 10000:\t\t# 단어의 개수는 10000이하\n",
        "\t\t\treview_encoding.append(index)\n",
        "\t\telse:\n",
        "\t\t\treview_encoding.append(word_to_index[\"UNK\"])\n",
        "\n",
        "# 2차원 리스트로 전달하여야 한다.\n",
        "test_input = pad_sequences([review_encoding], maxlen = 100)\n",
        "value = model.predict(test_input) # 예측\n",
        "if(value > 0.5):\n",
        "\tprint(\"긍정적인 리뷰입니다.\")\n",
        "else:\n",
        "\tprint(\"부정적인 리뷰입니다.\")"
      ],
      "metadata": {
        "colab": {
          "base_uri": "https://localhost:8080/"
        },
        "id": "i2iAw4TD6V3_",
        "outputId": "46e97e40-9073-4f54-92aa-a5e44b3aee37"
      },
      "execution_count": 57,
      "outputs": [
        {
          "output_type": "stream",
          "name": "stdout",
          "text": [
            "\u001b[1m1/1\u001b[0m \u001b[32m━━━━━━━━━━━━━━━━━━━━\u001b[0m\u001b[37m\u001b[0m \u001b[1m0s\u001b[0m 126ms/step\n",
            "긍정적인 리뷰입니다.\n"
          ]
        }
      ]
    },
    {
      "cell_type": "code",
      "source": [],
      "metadata": {
        "id": "m6dLa8JV6b72"
      },
      "execution_count": null,
      "outputs": []
    }
  ]
}